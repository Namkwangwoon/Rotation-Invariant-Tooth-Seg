{
 "cells": [
  {
   "cell_type": "code",
   "execution_count": 1,
   "metadata": {},
   "outputs": [
    {
     "name": "stdout",
     "output_type": "stream",
     "text": [
      "Jupyter environment detected. Enabling Open3D WebVisualizer.\n",
      "[Open3D INFO] WebRTC GUI backend enabled.\n",
      "[Open3D INFO] WebRTCWindowSystem: HTTP handshake server disabled.\n"
     ]
    }
   ],
   "source": [
    "import open3d as o3d\n",
    "import numpy as np\n",
    "import os\n",
    "import gen_utils as gu\n",
    "import pyvista as pv\n",
    "from time import time"
   ]
  },
  {
   "cell_type": "code",
   "execution_count": 2,
   "metadata": {},
   "outputs": [],
   "source": [
    "challenge_path = '../datasets/3D_scans_per_patient_obj_files'\n",
    "challenge_gt_path = '../datasets/ground-truth_labels_instances'\n",
    "case = '01AS72AN'\n",
    "jaw = 'lower'\n",
    "\n",
    "osstem_mesh_path = './test_input_aligned/Case_01_lower(Antagonist)_1.obj'\n",
    "# osstem_mesh_path = './test_input_aligned/Case_01_upper_1.obj'\n",
    "# osstem_mesh_path = './test_input_aligned/Case_03_lower(Antagonist)_1.obj'\n",
    "# osstem_mesh_path = './test_input_aligned/Case_03_upper_1.obj'"
   ]
  },
  {
   "cell_type": "code",
   "execution_count": 3,
   "metadata": {},
   "outputs": [
    {
     "name": "stdout",
     "output_type": "stream",
     "text": [
      "../datasets/3D_scans_per_patient_obj_files/01AS72AN/01AS72AN_lower.obj\n",
      "../datasets/ground-truth_labels_instances/01AS72AN/01AS72AN_lower.json\n"
     ]
    }
   ],
   "source": [
    "challenge_mesh_path = os.path.join(challenge_path, case, case+'_'+jaw+'.obj')\n",
    "print(challenge_mesh_path)\n",
    "\n",
    "json_path = os.path.join(challenge_gt_path, case, case+'_'+jaw+'.json')\n",
    "print(json_path)"
   ]
  },
  {
   "attachments": {},
   "cell_type": "markdown",
   "metadata": {},
   "source": [
    "# Open3d"
   ]
  },
  {
   "cell_type": "code",
   "execution_count": 4,
   "metadata": {},
   "outputs": [],
   "source": [
    "vertices, org_mesh = gu.read_txt_obj_ls(challenge_mesh_path, ret_mesh=True, use_tri_mesh=True)\n",
    "\n",
    "org_mesh.compute_vertex_normals()\n",
    "\n",
    "# gt_loaded_json = gu.load_json(os.path.join(challenge_gt_path, case, case+'_'+jaw+'.json'))\n",
    "# gt_labels = np.array(gt_loaded_json['labels']).reshape(-1)\n",
    "\n",
    "# if gt_loaded_json['jaw'] == 'lower':\n",
    "#     gt_labels -= 20\n",
    "# gt_labels[gt_labels//10==1] %= 10\n",
    "# gt_labels[gt_labels//10==2] = (gt_labels[gt_labels//10==2]%10) + 8\n",
    "# gt_labels[gt_labels<0] = 0\n",
    "\n",
    "o3d.visualization.draw_geometries([org_mesh])\n",
    "\n",
    "# colored_mesh = gu.get_colored_mesh(org_mesh, gt_labels)\n",
    "\n",
    "# o3d.visualization.draw_geometries([colored_mesh])"
   ]
  },
  {
   "attachments": {},
   "cell_type": "markdown",
   "metadata": {},
   "source": [
    "## open3d.geometry.sample_points_poisson_disk"
   ]
  },
  {
   "cell_type": "code",
   "execution_count": 56,
   "metadata": {},
   "outputs": [
    {
     "data": {
      "text/plain": [
       "0.00020575523376464844"
      ]
     },
     "execution_count": 56,
     "metadata": {},
     "output_type": "execute_result"
    }
   ],
   "source": [
    "np.array(colored_mesh.vertex_colors).dtype"
   ]
  },
  {
   "cell_type": "code",
   "execution_count": 57,
   "metadata": {},
   "outputs": [
    {
     "data": {
      "text/plain": [
       "5.972134828567505"
      ]
     },
     "execution_count": 57,
     "metadata": {},
     "output_type": "execute_result"
    }
   ],
   "source": [
    "start = time()\n",
    "pcd = org_mesh.sample_points_poisson_disk(24000)\n",
    "end = time()\n",
    "\n",
    "o3d.visualization.draw_geometries([pcd])\n",
    "end-start"
   ]
  },
  {
   "cell_type": "code",
   "execution_count": 7,
   "metadata": {},
   "outputs": [
    {
     "data": {
      "text/plain": [
       "std::vector<Eigen::Vector3d> with 24000 elements.\n",
       "Use numpy.asarray() to access data."
      ]
     },
     "execution_count": 7,
     "metadata": {},
     "output_type": "execute_result"
    }
   ],
   "source": [
    "pcd.points"
   ]
  },
  {
   "cell_type": "code",
   "execution_count": 8,
   "metadata": {},
   "outputs": [
    {
     "data": {
      "text/plain": [
       "std::vector<Eigen::Vector3d> with 24000 elements.\n",
       "Use numpy.asarray() to access data."
      ]
     },
     "execution_count": 8,
     "metadata": {},
     "output_type": "execute_result"
    }
   ],
   "source": [
    "pcd.colors"
   ]
  },
  {
   "cell_type": "code",
   "execution_count": 9,
   "metadata": {},
   "outputs": [
    {
     "data": {
      "text/plain": [
       "dtype('float64')"
      ]
     },
     "execution_count": 9,
     "metadata": {},
     "output_type": "execute_result"
    }
   ],
   "source": [
    "color_ind = np.array(pcd.colors)\n",
    "color_ind.dtype"
   ]
  },
  {
   "cell_type": "code",
   "execution_count": 10,
   "metadata": {},
   "outputs": [],
   "source": [
    "palet = np.array([\n",
    "        [255,153,153],\n",
    "\n",
    "        [153,76,0],\n",
    "        [153,153,0],\n",
    "        [76,153,0],\n",
    "        [0,153,153],\n",
    "        [0,0,153],\n",
    "        [153,0,153],\n",
    "        [153,0,76],\n",
    "        [64,64,64],\n",
    "\n",
    "        [255,128,0],\n",
    "        [153,153,0],\n",
    "        [76,153,0],\n",
    "        [0,153,153],\n",
    "        [0,0,153],\n",
    "        [153,0,153],\n",
    "        [153,0,76],\n",
    "        [64,64,64],\n",
    "    ])/255\n",
    "palet[9:] *= 0.4\n",
    "\n",
    "# palet = np.array([\n",
    "#         [0, 0, 0],\n",
    "        \n",
    "#         [10, 10, 10],\n",
    "#         [20, 20, 20],\n",
    "#         [30, 30, 30],\n",
    "#         [40, 40, 40],\n",
    "#         [50, 50, 50],\n",
    "#         [60, 60, 60],\n",
    "#         [70, 70, 70],\n",
    "#         [80, 80, 80],\n",
    "        \n",
    "#         [90, 90, 90],\n",
    "#         [100, 100, 100],\n",
    "#         [110, 110, 110],\n",
    "#         [120, 120, 120],\n",
    "#         [130, 130, 130],\n",
    "#         [140, 140, 140],\n",
    "#         [150, 150, 150],\n",
    "#         [160, 160, 160]\n",
    "# ])"
   ]
  },
  {
   "cell_type": "code",
   "execution_count": 11,
   "metadata": {},
   "outputs": [
    {
     "data": {
      "text/plain": [
       "dtype('float64')"
      ]
     },
     "execution_count": 11,
     "metadata": {},
     "output_type": "execute_result"
    }
   ],
   "source": [
    "palet.dtype"
   ]
  },
  {
   "cell_type": "code",
   "execution_count": 12,
   "metadata": {},
   "outputs": [],
   "source": [
    "sampled_label = np.zeros(24000)\n",
    "for i, p in enumerate(palet):\n",
    "    sampled_label[((np.isclose(color_ind, p)).sum(-1)//3).astype(np.bool_)] = i"
   ]
  },
  {
   "cell_type": "code",
   "execution_count": 13,
   "metadata": {},
   "outputs": [
    {
     "name": "stdout",
     "output_type": "stream",
     "text": [
      "20323\n",
      "178\n",
      "188\n",
      "245\n",
      "237\n",
      "237\n",
      "435\n",
      "353\n",
      "0\n",
      "177\n",
      "224\n",
      "240\n",
      "218\n",
      "208\n",
      "401\n",
      "336\n",
      "0\n"
     ]
    }
   ],
   "source": [
    "for i in range(17):\n",
    "    print(len(sampled_label[sampled_label==i]))"
   ]
  },
  {
   "cell_type": "code",
   "execution_count": 14,
   "metadata": {},
   "outputs": [
    {
     "name": "stdout",
     "output_type": "stream",
     "text": [
      "0\n"
     ]
    },
    {
     "data": {
      "text/plain": [
       "array([], shape=(0, 3), dtype=float64)"
      ]
     },
     "execution_count": 14,
     "metadata": {},
     "output_type": "execute_result"
    }
   ],
   "source": [
    "print(len(color_ind[sampled_label==-1]))\n",
    "color_ind[sampled_label==-1].astype(np.float64)"
   ]
  },
  {
   "cell_type": "code",
   "execution_count": 15,
   "metadata": {},
   "outputs": [],
   "source": [
    "vertices, org_mesh = gu.read_txt_obj_ls(mesh_path, ret_mesh=True, use_tri_mesh=False)\n",
    "\n",
    "cloud = pv.PolyData(np.array(pcd.points))\n",
    "mesh = cloud.delaunay_2d()\n",
    "\n",
    "org_mesh.vertices = o3d.utility.Vector3dVector(np.array(mesh.points))\n",
    "org_mesh.triangles = o3d.utility.Vector3iVector(np.array(mesh.regular_faces))\n",
    "org_mesh.compute_vertex_normals()\n",
    "\n",
    "gu.print_3d(gu.get_colored_mesh(org_mesh, sampled_label))"
   ]
  },
  {
   "cell_type": "code",
   "execution_count": 16,
   "metadata": {},
   "outputs": [
    {
     "data": {
      "text/plain": [
       "(24000, 3)"
      ]
     },
     "execution_count": 16,
     "metadata": {},
     "output_type": "execute_result"
    }
   ],
   "source": [
    "np.array(pcd.normals).shape"
   ]
  },
  {
   "cell_type": "code",
   "execution_count": null,
   "metadata": {},
   "outputs": [],
   "source": []
  },
  {
   "attachments": {},
   "cell_type": "markdown",
   "metadata": {},
   "source": [
    "## open3d.geometry.voxel_down_sample"
   ]
  },
  {
   "cell_type": "code",
   "execution_count": 61,
   "metadata": {},
   "outputs": [
    {
     "data": {
      "text/plain": [
       "(113080, 6)"
      ]
     },
     "execution_count": 61,
     "metadata": {},
     "output_type": "execute_result"
    }
   ],
   "source": [
    "vertices, org_mesh = gu.read_txt_obj_ls(challenge_mesh_path, ret_mesh=True, use_tri_mesh=True)\n",
    "vertices.shape"
   ]
  },
  {
   "cell_type": "code",
   "execution_count": 62,
   "metadata": {},
   "outputs": [],
   "source": [
    "pcd = o3d.geometry.PointCloud()\n",
    "pcd.points = o3d.utility.Vector3dVector(np.array(vertices[:, :3]))\n",
    "o3d.visualization.draw_geometries([pcd])"
   ]
  },
  {
   "cell_type": "code",
   "execution_count": 63,
   "metadata": {},
   "outputs": [
    {
     "data": {
      "text/plain": [
       "([0.0011825935361760406,\n",
       "  0.0011825935361760406,\n",
       "  0.0016410329603897648,\n",
       "  0.0016410329603897648,\n",
       "  0.002311960429093609,\n",
       "  0.002311960429093609,\n",
       "  0.0026146584176523994,\n",
       "  0.0026146584176523994,\n",
       "  0.0027376453954646067,\n",
       "  0.0027376453954646067],\n",
       " [4.460783523945331,\n",
       "  4.460783528249087,\n",
       "  4.493911321230188,\n",
       "  4.493911321230188,\n",
       "  4.493913914127489,\n",
       "  4.512324044190266,\n",
       "  4.512324044190266,\n",
       "  4.512324095029833,\n",
       "  4.5826826959758105,\n",
       "  4.706616869999504])"
      ]
     },
     "execution_count": 63,
     "metadata": {},
     "output_type": "execute_result"
    }
   ],
   "source": [
    "sorted(pcd.compute_nearest_neighbor_distance())[:10], sorted(pcd.compute_nearest_neighbor_distance())[-10:]"
   ]
  },
  {
   "cell_type": "code",
   "execution_count": 22,
   "metadata": {},
   "outputs": [
    {
     "data": {
      "text/plain": [
       "([0.12012288263725508,\n",
       "  0.12012288263725508,\n",
       "  0.26057311027349944,\n",
       "  0.26057311027349944,\n",
       "  0.2932751962443689,\n",
       "  0.2932751962443689,\n",
       "  0.3264274649051962,\n",
       "  0.3264274649051962,\n",
       "  0.342241693478084,\n",
       "  0.342241693478084],\n",
       " [1.9998505721845266,\n",
       "  2.014923012802051,\n",
       "  2.021760026912043,\n",
       "  2.0218952239080745,\n",
       "  2.041232459692378,\n",
       "  2.0433228495360494,\n",
       "  2.0438002424089836,\n",
       "  2.0522900526425993,\n",
       "  2.3269442952375994,\n",
       "  3.287307797132058])"
      ]
     },
     "execution_count": 22,
     "metadata": {},
     "output_type": "execute_result"
    }
   ],
   "source": [
    "voxel_size = 2\n",
    "sorted(pcd.voxel_down_sample(voxel_size).compute_nearest_neighbor_distance())[:10], \\\n",
    "sorted(pcd.voxel_down_sample(voxel_size).compute_nearest_neighbor_distance())[-10:]"
   ]
  },
  {
   "cell_type": "code",
   "execution_count": 64,
   "metadata": {},
   "outputs": [
    {
     "data": {
      "text/plain": [
       "0.010190248489379883"
      ]
     },
     "execution_count": 64,
     "metadata": {},
     "output_type": "execute_result"
    }
   ],
   "source": [
    "start = time()\n",
    "pcd.voxel_down_sample(24000)\n",
    "end = time()\n",
    "end-start"
   ]
  },
  {
   "cell_type": "code",
   "execution_count": 23,
   "metadata": {},
   "outputs": [
    {
     "data": {
      "text/plain": [
       "array([[ -15.51582336,   -2.25549984, -111.22479757],\n",
       "       [  18.79205598,    4.54199908, -113.62487115],\n",
       "       [  17.19524231,    5.84844799, -110.54884186],\n",
       "       [ -39.35035801,    6.09764802, -105.38248634],\n",
       "       [ -37.82429211,    2.43087677, -105.60689955],\n",
       "       [ -36.82312965,    2.32092181, -105.13002777],\n",
       "       [ -38.16914153,    4.23025407, -105.44532299],\n",
       "       [ -39.88845481,    8.77549411, -104.42748999],\n",
       "       [ -37.10402679,   -1.2281599 , -105.70759583],\n",
       "       [ -36.94787979,    4.81356382, -104.89863586]])"
      ]
     },
     "execution_count": 23,
     "metadata": {},
     "output_type": "execute_result"
    }
   ],
   "source": [
    "np.array(pcd.voxel_down_sample(voxel_size).points[:10])"
   ]
  },
  {
   "cell_type": "code",
   "execution_count": 24,
   "metadata": {},
   "outputs": [
    {
     "name": "stdout",
     "output_type": "stream",
     "text": [
      "[ -37.10402679   -1.2281599  -105.70759583]\n",
      "[ -36.94787979    4.81356382 -104.89863586]\n",
      "[-33.08174133   6.98305511 -96.88136292]\n",
      "[ -33.03694153   -4.78202915 -102.81986237]\n",
      "[ -28.73965263  -16.99838448 -105.00170135]\n",
      "[ -28.81942368  -10.71192074 -103.09117889]\n",
      "[ -26.94640732  -18.78615379 -102.68399048]\n",
      "[-32.9794426   13.25167465 -99.11973572]\n",
      "[ -32.81850433   12.96056652 -103.03846741]\n",
      "[-32.9499054    1.9546963  -96.61200714]\n",
      "[-30.88968277  -2.02693605 -93.01068115]\n",
      "[ -27.02456284  -20.87066269 -103.83361053]\n",
      "[ -22.83383179  -20.72487259 -100.9759903 ]\n",
      "[  -1.84245872  -18.78521538 -103.15196991]\n",
      "[   1.04305792  -14.42703724 -108.63247681]\n",
      "[  11.25070667  -12.96564198 -104.96987915]\n",
      "[ -17.54743004   -4.85188818 -113.04679871]\n",
      "[  19.33495712  -18.90796661 -102.94652557]\n",
      "[ 17.04068375 -10.5834856  -94.40866852]\n",
      "[ -22.84854698  -20.69566917 -100.41513824]\n",
      "[ -18.93487167   -8.27371502 -102.82837677]\n",
      "[ -22.59011269    5.2655201  -115.3766098 ]\n",
      "[  22.90984154  -14.65139771 -105.07077026]\n",
      "[   6.89055347  -14.64855385 -108.63292694]\n",
      "[   9.00222397  -14.5560112  -105.6979599 ]\n",
      "[ 17.08387184  -6.61949301 -98.46108246]\n",
      "[ 23.2518692    1.1723274  -99.01190186]\n",
      "[  15.18544006  -10.76804256 -103.30853271]\n",
      "[  21.39396477  -16.75917816 -104.74906158]\n",
      "[  21.2696743   -16.89382553 -104.9780426 ]\n",
      "[  -6.95560551  -18.76443481 -101.59039307]\n",
      "[  -6.65933037  -10.66119766 -109.18539429]\n",
      "[  10.99836922  -10.55176449 -110.83493042]\n",
      "[ -41.1618576    11.09487057 -103.60375214]\n",
      "[ 11.02379894 -14.63289452 -99.96652222]\n",
      "[  7.27151012 -16.78953552 -97.22490692]\n",
      "[  16.99265289   -0.71293432 -108.02674866]\n",
      "[  35.22149277    0.6679498  -110.67798615]\n",
      "[ -38.82849503    7.62887716 -104.95546722]\n",
      "[  14.71767616  -12.42007923 -100.82269287]\n",
      "[  19.19810295    8.74060726 -102.89241791]\n",
      "[-26.99398232  -6.39812422 -90.93273926]\n",
      "[  33.41680145   -3.39364886 -111.40229034]\n",
      "[ -35.00365829   -0.96852738 -102.7779007 ]\n",
      "[ -28.99736786   14.99815655 -103.1743927 ]\n",
      "[  21.08533478   12.28181839 -110.9857254 ]\n",
      "[ -20.94438171   -8.86793613 -101.12976837]\n",
      "[ -33.02764511   -8.91236687 -106.83502197]\n",
      "[ 17.23023033 -16.61839867 -95.13196564]\n",
      "[ -20.95017433   -4.80802441 -103.02006531]\n",
      "[-20.82997894 -20.60314369 -93.02201843]\n",
      "[  31.06137276   -0.84244442 -108.24814606]\n",
      "[  33.25680161    3.23566532 -108.87033844]\n",
      "[ -41.3409462    11.90704441 -103.126091  ]\n",
      "[ 22.98274994  15.71869373 -98.92562866]\n",
      "[ -16.95247078  -26.86470032 -104.7504425 ]\n",
      "[ -22.97354126    4.86194801 -115.13904572]\n",
      "[-13.04873848 -24.72875786 -97.01272583]\n",
      "[ -25.20232582    7.12504864 -105.26821899]\n",
      "[  1.03108561 -20.768116   -95.07286835]\n",
      "[ 17.09795189 -18.8777523  -92.68681335]\n",
      "[  5.04515696 -20.30893326 -89.13976288]\n",
      "[  9.47609234 -26.83117294 -98.73860931]\n",
      "[  7.92164898 -20.71863174 -86.90579224]\n",
      "[  28.89100838   21.18981934 -101.12664032]\n",
      "[  23.05615997  -16.39811516 -111.01486969]\n",
      "[-10.87576103 -20.74207878 -86.63509369]\n",
      "[  -8.73229599  -16.73963356 -106.80170441]\n",
      "[ -29.03228378   15.33513832 -103.23519135]\n",
      "[  3.14912653 -26.78898811 -94.70648956]\n",
      "[-31.08288956  -0.79775572 -92.86131287]\n",
      "[ -15.11216831  -12.97461224 -107.16333008]\n",
      "[ -24.7492733     9.44734859 -114.91590881]\n",
      "[  21.14208031   11.13851261 -109.84873962]\n",
      "[ 23.22502327  -8.94536209 -96.88236237]\n",
      "[ -7.03280115 -20.63022804 -90.82322693]\n",
      "[ -16.83841133  -10.68764019 -104.95089722]\n",
      "[  3.54782605 -24.78317833 -88.9017868 ]\n",
      "[-14.9055872  -16.53748322 -90.63180542]\n",
      "[ -24.83079338    5.25816154 -102.53938293]\n",
      "[ -1.12410581 -24.97410774 -86.81628418]\n",
      "[-19.04731941 -12.92304039 -95.73545074]\n",
      "[ -18.97661781   -7.04390526 -103.39228821]\n",
      "[-19.0323925  -10.96281338 -92.94097137]\n",
      "[ -20.92080498   -2.74673986 -107.00171661]\n",
      "[ -20.97312164   -2.79104686 -106.0867691 ]\n",
      "[-15.22390461 -18.68530464 -84.92456055]\n",
      "[  15.26560879   -2.51318073 -113.12604523]\n",
      "[ -23.03194809   -4.94828844 -101.12294769]\n",
      "[  -6.89701414  -26.72192192 -103.05912018]\n",
      "[  8.81271362 -22.69276047 -89.02539062]\n",
      "[  -9.1606493   -26.63670158 -102.97964478]\n",
      "[ -11.23910809  -26.99503517 -102.93572235]\n",
      "[-22.88836479  -6.43428993 -90.9335022 ]\n",
      "[-25.01244545 -14.873703   -90.86260986]\n",
      "[ -20.42530441  -24.74112511 -105.00817871]\n",
      "[  5.1299963  -20.80846405 -95.30393982]\n",
      "[-24.92934227 -16.66938782 -94.72001648]\n",
      "[-20.97406006 -10.25425339 -94.85337067]\n"
     ]
    }
   ],
   "source": [
    "for p in np.array(pcd.voxel_down_sample(voxel_size).points):\n",
    "    if p in np.array(pcd.points):\n",
    "        print(p)"
   ]
  },
  {
   "cell_type": "code",
   "execution_count": 25,
   "metadata": {},
   "outputs": [
    {
     "data": {
      "text/plain": [
       "array([ -0.28239968,  -8.01873745, -99.03307996])"
      ]
     },
     "execution_count": 25,
     "metadata": {},
     "output_type": "execute_result"
    }
   ],
   "source": [
    "np.array(pcd.points).mean(0)"
   ]
  },
  {
   "cell_type": "code",
   "execution_count": 26,
   "metadata": {},
   "outputs": [],
   "source": [
    "o3d.visualization.draw_geometries([pcd.voxel_down_sample(voxel_size)])"
   ]
  },
  {
   "cell_type": "code",
   "execution_count": 129,
   "metadata": {},
   "outputs": [
    {
     "data": {
      "text/plain": [
       "(array([[  32.23250961,   24.49151039, -111.03425598],\n",
       "        [  32.79378128,   24.41981888, -111.25597382],\n",
       "        [  32.48640823,   24.59178162, -111.42739105],\n",
       "        [  32.45804977,   24.29204369, -110.77379608],\n",
       "        [  32.09769821,   24.63780975, -111.29608154],\n",
       "        [  32.04803848,   24.30966949, -110.60123444],\n",
       "        [  32.79964828,   24.11439323, -110.6783905 ],\n",
       "        [  31.68505669,   24.62940979, -111.09718323],\n",
       "        [  32.43758774,   23.97652054, -110.2582016 ],\n",
       "        [  33.24604797,   24.25520706, -111.28716278]]),\n",
       " array([[  -9.42953491,  -29.64219856, -102.44727325],\n",
       "        [  -9.69323063,  -29.69818878, -102.41346741],\n",
       "        [  -9.93113232,  -29.51582909, -102.50177002],\n",
       "        [   0.42994091,  -29.39485741, -102.46543884],\n",
       "        [   0.21797167,  -29.37998962, -102.33530426],\n",
       "        [  -0.26125661,  -29.088974  , -102.40115356],\n",
       "        [ -15.63829136,   -2.15891051, -111.1860199 ],\n",
       "        [ -15.49253941,   -2.33407664, -111.36514282],\n",
       "        [  19.07939339,    4.91666365, -113.42053986],\n",
       "        [  19.06748199,    5.09646273, -113.40197754]]))"
      ]
     },
     "execution_count": 129,
     "metadata": {},
     "output_type": "execute_result"
    }
   ],
   "source": [
    "np.array(pcd.points)[:10],  \\\n",
    "np.array((pcd.voxel_down_sample(0.1).points))[:10]"
   ]
  },
  {
   "cell_type": "code",
   "execution_count": null,
   "metadata": {},
   "outputs": [],
   "source": []
  },
  {
   "attachments": {},
   "cell_type": "markdown",
   "metadata": {},
   "source": [
    "## open3d.geometry.TirangleMesh.simplify_vertex_clustering()"
   ]
  },
  {
   "attachments": {},
   "cell_type": "markdown",
   "metadata": {},
   "source": [
    "## open3d.geometry.SimplificationContraction.Average"
   ]
  },
  {
   "cell_type": "code",
   "execution_count": 65,
   "metadata": {},
   "outputs": [
    {
     "name": "stdout",
     "output_type": "stream",
     "text": [
      "voxel_size = 6.434156e-01\n",
      "Simplified mesh has 8890 vertices and 18194 triangles\n",
      "voxel_size = 3.217078e-01\n",
      "Simplified mesh has 29322 vertices and 59270 triangles\n"
     ]
    },
    {
     "data": {
      "text/plain": [
       "0.20023703575134277"
      ]
     },
     "execution_count": 65,
     "metadata": {},
     "output_type": "execute_result"
    }
   ],
   "source": [
    "voxel_size = max(org_mesh.get_max_bound() - org_mesh.get_min_bound()) / 128\n",
    "print(f'voxel_size = {voxel_size:e}')\n",
    "mesh_smp = org_mesh.simplify_vertex_clustering(\n",
    "    voxel_size=voxel_size,\n",
    "    contraction=o3d.geometry.SimplificationContraction.Average)\n",
    "print(\n",
    "    f'Simplified mesh has {len(mesh_smp.vertices)} vertices and {len(mesh_smp.triangles)} triangles'\n",
    ")\n",
    "o3d.visualization.draw_geometries([mesh_smp])\n",
    "\n",
    "voxel_size = max(org_mesh.get_max_bound() - org_mesh.get_min_bound()) / 256\n",
    "print(f'voxel_size = {voxel_size:e}')\n",
    "start = time()\n",
    "mesh_smp = org_mesh.simplify_vertex_clustering(\n",
    "    voxel_size=voxel_size,\n",
    "    contraction=o3d.geometry.SimplificationContraction.Average)\n",
    "end = time()\n",
    "print(\n",
    "    f'Simplified mesh has {len(mesh_smp.vertices)} vertices and {len(mesh_smp.triangles)} triangles'\n",
    ")\n",
    "o3d.visualization.draw_geometries([mesh_smp])\n",
    "end-start"
   ]
  },
  {
   "cell_type": "code",
   "execution_count": 53,
   "metadata": {},
   "outputs": [
    {
     "name": "stdout",
     "output_type": "stream",
     "text": [
      "voxel_size = 1.000000e+00\n",
      "Simplified mesh has 4107 vertices and 8399 triangles\n"
     ]
    }
   ],
   "source": [
    "voxel_size = 1\n",
    "print(f'voxel_size = {voxel_size:e}')\n",
    "mesh_smp = org_mesh.simplify_vertex_clustering(\n",
    "    voxel_size=voxel_size,\n",
    "    contraction=o3d.geometry.SimplificationContraction.Average)\n",
    "print(\n",
    "    f'Simplified mesh has {len(mesh_smp.vertices)} vertices and {len(mesh_smp.triangles)} triangles'\n",
    ")\n",
    "o3d.visualization.draw_geometries([mesh_smp])\n",
    "\n",
    "pcd = o3d.geometry.PointCloud()\n",
    "pcd.points = o3d.utility.Vector3dVector(np.array(mesh_smp.vertices)[:, :3])\n",
    "o3d.visualization.draw_geometries([pcd])"
   ]
  },
  {
   "attachments": {},
   "cell_type": "markdown",
   "metadata": {},
   "source": [
    "## open3d.geometry.SimplificationContraction.Quadric"
   ]
  },
  {
   "cell_type": "code",
   "execution_count": 66,
   "metadata": {},
   "outputs": [
    {
     "name": "stdout",
     "output_type": "stream",
     "text": [
      "voxel_size = 6.434156e-01\n",
      "Simplified mesh has 8890 vertices and 18194 triangles\n",
      "voxel_size = 3.217078e-01\n",
      "Simplified mesh has 29322 vertices and 59270 triangles\n"
     ]
    },
    {
     "data": {
      "text/plain": [
       "0.7241568565368652"
      ]
     },
     "execution_count": 66,
     "metadata": {},
     "output_type": "execute_result"
    }
   ],
   "source": [
    "voxel_size = max(org_mesh.get_max_bound() - org_mesh.get_min_bound()) / 128\n",
    "print(f'voxel_size = {voxel_size:e}')\n",
    "mesh_smp = org_mesh.simplify_vertex_clustering(\n",
    "    voxel_size=voxel_size,\n",
    "    contraction=o3d.geometry.SimplificationContraction.Quadric)\n",
    "print(\n",
    "    f'Simplified mesh has {len(mesh_smp.vertices)} vertices and {len(mesh_smp.triangles)} triangles'\n",
    ")\n",
    "o3d.visualization.draw_geometries([mesh_smp])\n",
    "\n",
    "voxel_size = max(org_mesh.get_max_bound() - org_mesh.get_min_bound()) / 256\n",
    "print(f'voxel_size = {voxel_size:e}')\n",
    "start = time()\n",
    "mesh_smp = org_mesh.simplify_vertex_clustering(\n",
    "    voxel_size=voxel_size,\n",
    "    contraction=o3d.geometry.SimplificationContraction.Quadric)\n",
    "end = time()\n",
    "print(\n",
    "    f'Simplified mesh has {len(mesh_smp.vertices)} vertices and {len(mesh_smp.triangles)} triangles'\n",
    ")\n",
    "o3d.visualization.draw_geometries([mesh_smp])\n",
    "end-start"
   ]
  },
  {
   "cell_type": "code",
   "execution_count": 67,
   "metadata": {},
   "outputs": [
    {
     "name": "stdout",
     "output_type": "stream",
     "text": [
      "voxel_size = 1.000000e+00\n",
      "Simplified mesh has 4107 vertices and 8399 triangles\n"
     ]
    }
   ],
   "source": [
    "voxel_size = 1\n",
    "print(f'voxel_size = {voxel_size:e}')\n",
    "mesh_smp = org_mesh.simplify_vertex_clustering(\n",
    "    voxel_size=voxel_size,\n",
    "    contraction=o3d.geometry.SimplificationContraction.Quadric)\n",
    "print(\n",
    "    f'Simplified mesh has {len(mesh_smp.vertices)} vertices and {len(mesh_smp.triangles)} triangles'\n",
    ")\n",
    "o3d.visualization.draw_geometries([mesh_smp])\n",
    "\n",
    "pcd = o3d.geometry.PointCloud()\n",
    "pcd.points = o3d.utility.Vector3dVector(np.array(mesh_smp.vertices)[:, :3])\n",
    "o3d.visualization.draw_geometries([pcd])"
   ]
  },
  {
   "attachments": {},
   "cell_type": "markdown",
   "metadata": {},
   "source": [
    "## open3d.geometry.TriangleMesh.simplify_quadric_decimation"
   ]
  },
  {
   "cell_type": "code",
   "execution_count": 79,
   "metadata": {},
   "outputs": [
    {
     "name": "stdout",
     "output_type": "stream",
     "text": [
      "Simplified mesh has 927 vertices and 1700 triangles\n",
      "Simplified mesh has 3426 vertices and 6500 triangles\n",
      "Simplified mesh has 5236 vertices and 10000 triangles\n"
     ]
    }
   ],
   "source": [
    "mesh_smp = org_mesh.simplify_quadric_decimation(target_number_of_triangles=1700)\n",
    "print(\n",
    "    f'Simplified mesh has {len(mesh_smp.vertices)} vertices and {len(mesh_smp.triangles)} triangles'\n",
    ")\n",
    "o3d.visualization.draw_geometries([mesh_smp])\n",
    "\n",
    "mesh_smp = org_mesh.simplify_quadric_decimation(target_number_of_triangles=6500)\n",
    "print(\n",
    "    f'Simplified mesh has {len(mesh_smp.vertices)} vertices and {len(mesh_smp.triangles)} triangles'\n",
    ")\n",
    "o3d.visualization.draw_geometries([mesh_smp])\n",
    "\n",
    "mesh_smp = org_mesh.simplify_quadric_decimation(target_number_of_triangles=10000)\n",
    "print(\n",
    "    f'Simplified mesh has {len(mesh_smp.vertices)} vertices and {len(mesh_smp.triangles)} triangles'\n",
    ")\n",
    "o3d.visualization.draw_geometries([mesh_smp])"
   ]
  },
  {
   "cell_type": "code",
   "execution_count": 82,
   "metadata": {},
   "outputs": [
    {
     "data": {
      "text/plain": [
       "3.0823400020599365"
      ]
     },
     "execution_count": 82,
     "metadata": {},
     "output_type": "execute_result"
    }
   ],
   "source": [
    "start = time()\n",
    "quad = org_mesh.simplify_quadric_decimation(24000)\n",
    "end = time()\n",
    "o3d.visualization.draw_geometries([quad])\n",
    "end - start"
   ]
  },
  {
   "cell_type": "code",
   "execution_count": 16,
   "metadata": {},
   "outputs": [],
   "source": []
  },
  {
   "attachments": {},
   "cell_type": "markdown",
   "metadata": {},
   "source": [
    "# PyMeshLab"
   ]
  },
  {
   "cell_type": "code",
   "execution_count": 4,
   "metadata": {},
   "outputs": [],
   "source": [
    "import pymeshlab"
   ]
  },
  {
   "cell_type": "code",
   "execution_count": 5,
   "metadata": {},
   "outputs": [],
   "source": [
    "osstem_mesh = pymeshlab.MeshSet()\n",
    "challenge_mesh = pymeshlab.MeshSet()"
   ]
  },
  {
   "cell_type": "code",
   "execution_count": 6,
   "metadata": {},
   "outputs": [],
   "source": [
    "osstem_mesh.load_new_mesh(osstem_mesh_path)\n",
    "challenge_mesh.load_new_mesh(challenge_mesh_path)"
   ]
  },
  {
   "attachments": {},
   "cell_type": "markdown",
   "metadata": {},
   "source": [
    "## generate_iso_parametrization_remeshing"
   ]
  },
  {
   "cell_type": "code",
   "execution_count": 9,
   "metadata": {},
   "outputs": [
    {
     "name": "stderr",
     "output_type": "stream",
     "text": [
      "/home/pangwoon/anaconda3/envs/roitr/lib/python3.8/site-packages/pymeshlab/__init__.py:41: UserWarning: Deprecated Filter Warning: You should use 'compute_iso_parametrization' instead of 'iso_parametrization_main'. See https://pymeshlab.readthedocs.io/en/latest/index.html#filters-renaming\n",
      "  res_dict = self.apply_filter(name, **kwargs)\n"
     ]
    },
    {
     "name": "stdout",
     "output_type": "stream",
     "text": [
      "\n",
      " STEP 1 \n"
     ]
    },
    {
     "ename": "PyMeshLabException",
     "evalue": "Failed to apply filter: iso_parametrization_main\nDetails: non possible parameterization because of non manifold edges",
     "output_type": "error",
     "traceback": [
      "\u001b[0;31m---------------------------------------------------------------------------\u001b[0m",
      "\u001b[0;31mPyMeshLabException\u001b[0m                        Traceback (most recent call last)",
      "\u001b[0;32m/tmp/ipykernel_283346/1482856700.py\u001b[0m in \u001b[0;36m<module>\u001b[0;34m\u001b[0m\n\u001b[0;32m----> 1\u001b[0;31m \u001b[0mchallenge_mesh\u001b[0m\u001b[0;34m.\u001b[0m\u001b[0miso_parametrization_main\u001b[0m\u001b[0;34m(\u001b[0m\u001b[0;34m)\u001b[0m\u001b[0;34m\u001b[0m\u001b[0;34m\u001b[0m\u001b[0m\n\u001b[0m\u001b[1;32m      2\u001b[0m \u001b[0mchallenge_mesh\u001b[0m\u001b[0;34m.\u001b[0m\u001b[0mgenerate_iso_parametrization_remeshing\u001b[0m\u001b[0;34m(\u001b[0m\u001b[0;34m)\u001b[0m\u001b[0;34m\u001b[0m\u001b[0;34m\u001b[0m\u001b[0m\n\u001b[1;32m      3\u001b[0m \u001b[0;34m\u001b[0m\u001b[0m\n\u001b[1;32m      4\u001b[0m \u001b[0mchallenge_mesh\u001b[0m\u001b[0;34m.\u001b[0m\u001b[0mshow_polyscope\u001b[0m\u001b[0;34m(\u001b[0m\u001b[0;34m)\u001b[0m\u001b[0;34m\u001b[0m\u001b[0;34m\u001b[0m\u001b[0m\n",
      "\u001b[0;32m~/anaconda3/envs/roitr/lib/python3.8/site-packages/pymeshlab/__init__.py\u001b[0m in \u001b[0;36mfoo\u001b[0;34m(self, **kwargs)\u001b[0m\n\u001b[1;32m     39\u001b[0m \u001b[0;32mdef\u001b[0m \u001b[0mbind_function\u001b[0m\u001b[0;34m(\u001b[0m\u001b[0mname\u001b[0m\u001b[0;34m)\u001b[0m\u001b[0;34m:\u001b[0m\u001b[0;34m\u001b[0m\u001b[0;34m\u001b[0m\u001b[0m\n\u001b[1;32m     40\u001b[0m     \u001b[0;32mdef\u001b[0m \u001b[0mfoo\u001b[0m\u001b[0;34m(\u001b[0m\u001b[0mself\u001b[0m\u001b[0;34m,\u001b[0m \u001b[0;34m**\u001b[0m\u001b[0mkwargs\u001b[0m\u001b[0;34m)\u001b[0m\u001b[0;34m:\u001b[0m  \u001b[0;31m# Have to add self since this will become a method\u001b[0m\u001b[0;34m\u001b[0m\u001b[0;34m\u001b[0m\u001b[0m\n\u001b[0;32m---> 41\u001b[0;31m         \u001b[0mres_dict\u001b[0m \u001b[0;34m=\u001b[0m \u001b[0mself\u001b[0m\u001b[0;34m.\u001b[0m\u001b[0mapply_filter\u001b[0m\u001b[0;34m(\u001b[0m\u001b[0mname\u001b[0m\u001b[0;34m,\u001b[0m \u001b[0;34m**\u001b[0m\u001b[0mkwargs\u001b[0m\u001b[0;34m)\u001b[0m\u001b[0;34m\u001b[0m\u001b[0;34m\u001b[0m\u001b[0m\n\u001b[0m\u001b[1;32m     42\u001b[0m         \u001b[0;32mif\u001b[0m \u001b[0mbool\u001b[0m\u001b[0;34m(\u001b[0m\u001b[0mres_dict\u001b[0m\u001b[0;34m)\u001b[0m\u001b[0;34m:\u001b[0m  \u001b[0;31m# return the dictionary only if it is not empty\u001b[0m\u001b[0;34m\u001b[0m\u001b[0;34m\u001b[0m\u001b[0m\n\u001b[1;32m     43\u001b[0m             \u001b[0;32mreturn\u001b[0m \u001b[0mres_dict\u001b[0m\u001b[0;34m\u001b[0m\u001b[0;34m\u001b[0m\u001b[0m\n",
      "\u001b[0;31mPyMeshLabException\u001b[0m: Failed to apply filter: iso_parametrization_main\nDetails: non possible parameterization because of non manifold edges"
     ]
    }
   ],
   "source": [
    "challenge_mesh.iso_parametrization_main()\n",
    "challenge_mesh.generate_iso_parametrization_remeshing()\n",
    "\n",
    "challenge_mesh.show_polyscope()"
   ]
  },
  {
   "cell_type": "code",
   "execution_count": null,
   "metadata": {},
   "outputs": [],
   "source": []
  },
  {
   "cell_type": "code",
   "execution_count": null,
   "metadata": {},
   "outputs": [],
   "source": []
  },
  {
   "attachments": {},
   "cell_type": "markdown",
   "metadata": {},
   "source": [
    "## ~~generate_marching_cubes_apss~~"
   ]
  },
  {
   "cell_type": "code",
   "execution_count": 10,
   "metadata": {},
   "outputs": [],
   "source": [
    "challenge_mesh.generate_marching_cubes_apss()\n",
    "\n",
    "challenge_mesh.show_polyscope()"
   ]
  },
  {
   "attachments": {},
   "cell_type": "markdown",
   "metadata": {},
   "source": [
    "## ~~generate_resampled_uniform_mesh~~"
   ]
  },
  {
   "cell_type": "code",
   "execution_count": 7,
   "metadata": {},
   "outputs": [],
   "source": [
    "challenge_mesh.generate_resampled_uniform_mesh()"
   ]
  },
  {
   "cell_type": "code",
   "execution_count": 11,
   "metadata": {},
   "outputs": [],
   "source": [
    "challenge_mesh.generate_resampled_uniform_mesh(offset=pymeshlab.Percentage(80))"
   ]
  },
  {
   "cell_type": "code",
   "execution_count": 8,
   "metadata": {},
   "outputs": [],
   "source": [
    "challenge_mesh.generate_resampled_uniform_mesh(cellsize=pymeshlab.Percentage(1.25), offset=pymeshlab.Percentage(80))"
   ]
  },
  {
   "cell_type": "code",
   "execution_count": 13,
   "metadata": {},
   "outputs": [],
   "source": [
    "challenge_mesh.generate_resampled_uniform_mesh(cellsize=pymeshlab.Percentage(1.25), offset=pymeshlab.Percentage(80))"
   ]
  },
  {
   "cell_type": "code",
   "execution_count": 23,
   "metadata": {},
   "outputs": [],
   "source": [
    "challenge_mesh.generate_resampled_uniform_mesh(cellsize=pymeshlab.Percentage(0.01))"
   ]
  },
  {
   "cell_type": "code",
   "execution_count": null,
   "metadata": {},
   "outputs": [],
   "source": [
    "challenge_mesh.show_polyscope()"
   ]
  },
  {
   "attachments": {},
   "cell_type": "markdown",
   "metadata": {},
   "source": [
    "## generate_sampling_clustered_vertex"
   ]
  },
  {
   "cell_type": "code",
   "execution_count": 7,
   "metadata": {},
   "outputs": [],
   "source": [
    "challenge_mesh.load_new_mesh(challenge_mesh_path)\n",
    "challenge_mesh.generate_sampling_clustered_vertex(sampling=1)"
   ]
  },
  {
   "cell_type": "code",
   "execution_count": 8,
   "metadata": {},
   "outputs": [],
   "source": [
    "challenge_mesh.load_new_mesh(challenge_mesh_path)\n",
    "challenge_mesh.generate_sampling_clustered_vertex(sampling=0)"
   ]
  },
  {
   "cell_type": "code",
   "execution_count": 9,
   "metadata": {},
   "outputs": [],
   "source": [
    "challenge_mesh.load_new_mesh(challenge_mesh_path)\n",
    "challenge_mesh.generate_sampling_clustered_vertex(threshold=pymeshlab.Percentage(0.1), sampling=0)"
   ]
  },
  {
   "cell_type": "code",
   "execution_count": null,
   "metadata": {},
   "outputs": [],
   "source": []
  },
  {
   "cell_type": "code",
   "execution_count": 19,
   "metadata": {},
   "outputs": [],
   "source": [
    "osstem_mesh.load_new_mesh(osstem_mesh_path)\n",
    "osstem_mesh.generate_sampling_clustered_vertex(sampling=0)"
   ]
  },
  {
   "cell_type": "code",
   "execution_count": 12,
   "metadata": {},
   "outputs": [],
   "source": [
    "osstem_mesh.load_new_mesh(osstem_mesh_path)\n",
    "osstem_mesh.generate_sampling_clustered_vertex(threshold=pymeshlab.Percentage(0.1), sampling=0)"
   ]
  },
  {
   "cell_type": "code",
   "execution_count": 14,
   "metadata": {},
   "outputs": [],
   "source": [
    "osstem_mesh.load_new_mesh(osstem_mesh_path)\n",
    "osstem_mesh.generate_sampling_clustered_vertex(threshold=pymeshlab.Percentage(0.5), sampling=0)"
   ]
  },
  {
   "cell_type": "code",
   "execution_count": 29,
   "metadata": {},
   "outputs": [],
   "source": [
    "osstem_mesh.load_new_mesh(osstem_mesh_path)\n",
    "osstem_mesh.generate_sampling_clustered_vertex(threshold=pymeshlab.Percentage(0.5), sampling=1)"
   ]
  },
  {
   "cell_type": "code",
   "execution_count": null,
   "metadata": {},
   "outputs": [],
   "source": []
  },
  {
   "cell_type": "code",
   "execution_count": 10,
   "metadata": {},
   "outputs": [
    {
     "name": "stdout",
     "output_type": "stream",
     "text": [
      "[polyscope] Backend: openGL3_glfw -- Loaded openGL version: 3.3.0 NVIDIA 470.103.01\n"
     ]
    }
   ],
   "source": [
    "osstem_mesh.show_polyscope()"
   ]
  },
  {
   "attachments": {},
   "cell_type": "markdown",
   "metadata": {},
   "source": [
    "## ~~generate_sampling_element~~"
   ]
  },
  {
   "cell_type": "code",
   "execution_count": 7,
   "metadata": {},
   "outputs": [],
   "source": [
    "challenge_mesh.load_new_mesh(challenge_mesh_path)\n",
    "challenge_mesh.generate_sampling_element(sampling=0, samplenum=24000)"
   ]
  },
  {
   "cell_type": "code",
   "execution_count": 8,
   "metadata": {},
   "outputs": [
    {
     "name": "stdout",
     "output_type": "stream",
     "text": [
      "[polyscope] Backend: openGL3_glfw -- Loaded openGL version: 3.3.0 NVIDIA 470.103.01\n"
     ]
    }
   ],
   "source": [
    "challenge_mesh.show_polyscope()"
   ]
  },
  {
   "attachments": {},
   "cell_type": "markdown",
   "metadata": {},
   "source": [
    "## ~~generate_sampling_montecarlo~~"
   ]
  },
  {
   "cell_type": "code",
   "execution_count": 9,
   "metadata": {},
   "outputs": [],
   "source": [
    "challenge_mesh.load_new_mesh(challenge_mesh_path)\n",
    "challenge_mesh.generate_sampling_montecarlo(samplenum=24000)"
   ]
  },
  {
   "cell_type": "code",
   "execution_count": 10,
   "metadata": {},
   "outputs": [],
   "source": [
    "challenge_mesh.load_new_mesh(challenge_mesh_path)\n",
    "challenge_mesh.generate_sampling_montecarlo(samplenum=24000, radiusvariance=0.5)"
   ]
  },
  {
   "cell_type": "code",
   "execution_count": 11,
   "metadata": {},
   "outputs": [],
   "source": [
    "challenge_mesh.load_new_mesh(challenge_mesh_path)\n",
    "challenge_mesh.generate_sampling_montecarlo(samplenum=24000, radiusvariance=0.5, exactnum=False)"
   ]
  },
  {
   "cell_type": "code",
   "execution_count": 12,
   "metadata": {},
   "outputs": [],
   "source": [
    "challenge_mesh.show_polyscope()"
   ]
  },
  {
   "attachments": {},
   "cell_type": "markdown",
   "metadata": {},
   "source": [
    "## generate_sampling_poisson_disk"
   ]
  },
  {
   "cell_type": "code",
   "execution_count": 7,
   "metadata": {},
   "outputs": [],
   "source": [
    "challenge_mesh.load_new_mesh(challenge_mesh_path)\n",
    "challenge_mesh.generate_sampling_poisson_disk(samplenum=24000)"
   ]
  },
  {
   "cell_type": "code",
   "execution_count": 8,
   "metadata": {},
   "outputs": [],
   "source": [
    "challenge_mesh.load_new_mesh(challenge_mesh_path)\n",
    "challenge_mesh.generate_sampling_poisson_disk(samplenum=24000, radius=pymeshlab.Percentage(1))"
   ]
  },
  {
   "cell_type": "code",
   "execution_count": 9,
   "metadata": {},
   "outputs": [],
   "source": [
    "challenge_mesh.load_new_mesh(challenge_mesh_path)\n",
    "challenge_mesh.generate_sampling_poisson_disk(samplenum=24000, radius=pymeshlab.Percentage(1), approximategeodesicdistance=True)"
   ]
  },
  {
   "cell_type": "code",
   "execution_count": 13,
   "metadata": {},
   "outputs": [],
   "source": [
    "challenge_mesh.load_new_mesh(challenge_mesh_path)\n",
    "challenge_mesh.generate_sampling_poisson_disk(samplenum=24000, radius=pymeshlab.Percentage(1), approximategeodesicdistance=True, exactnumflag=False)"
   ]
  },
  {
   "cell_type": "code",
   "execution_count": 11,
   "metadata": {},
   "outputs": [
    {
     "data": {
      "text/plain": [
       "7.525360107421875"
      ]
     },
     "execution_count": 11,
     "metadata": {},
     "output_type": "execute_result"
    }
   ],
   "source": [
    "challenge_mesh.load_new_mesh(challenge_mesh_path)\n",
    "start = time()\n",
    "challenge_mesh.generate_sampling_poisson_disk(samplenum=24000, radius=pymeshlab.Percentage(0.5), approximategeodesicdistance=True, exactnumflag=True)\n",
    "end = time()\n",
    "end - start"
   ]
  },
  {
   "cell_type": "code",
   "execution_count": 12,
   "metadata": {},
   "outputs": [],
   "source": [
    "challenge_mesh.show_polyscope()"
   ]
  },
  {
   "cell_type": "code",
   "execution_count": 7,
   "metadata": {},
   "outputs": [
    {
     "data": {
      "text/plain": [
       "0.4485130310058594"
      ]
     },
     "execution_count": 7,
     "metadata": {},
     "output_type": "execute_result"
    }
   ],
   "source": [
    "osstem_mesh.load_new_mesh(osstem_mesh_path)\n",
    "start = time()\n",
    "osstem_mesh.generate_sampling_poisson_disk(samplenum=24000, radius=pymeshlab.Percentage(0.5), approximategeodesicdistance=True, exactnumflag=False)\n",
    "end = time()\n",
    "end - start"
   ]
  },
  {
   "cell_type": "code",
   "execution_count": 8,
   "metadata": {},
   "outputs": [
    {
     "name": "stdout",
     "output_type": "stream",
     "text": [
      "[polyscope] Backend: openGL3_glfw -- Loaded openGL version: 3.3.0 NVIDIA 470.103.01\n"
     ]
    }
   ],
   "source": [
    "osstem_mesh.show_polyscope()"
   ]
  },
  {
   "attachments": {},
   "cell_type": "markdown",
   "metadata": {},
   "source": [
    "## ~~generate_sampling_regular_recrusive~~"
   ]
  },
  {
   "cell_type": "code",
   "execution_count": 7,
   "metadata": {},
   "outputs": [],
   "source": [
    "challenge_mesh.load_new_mesh(challenge_mesh_path)\n",
    "challenge_mesh.generate_sampling_regular_recursive()"
   ]
  },
  {
   "cell_type": "code",
   "execution_count": 8,
   "metadata": {},
   "outputs": [],
   "source": [
    "challenge_mesh.load_new_mesh(challenge_mesh_path)\n",
    "challenge_mesh.generate_sampling_regular_recursive(cellsize=pymeshlab.Percentage(1))"
   ]
  },
  {
   "attachments": {},
   "cell_type": "markdown",
   "metadata": {},
   "source": [
    "## ~~generate_sampling_stratifies_triangle~~"
   ]
  },
  {
   "cell_type": "code",
   "execution_count": 10,
   "metadata": {},
   "outputs": [],
   "source": [
    "challenge_mesh.load_new_mesh(challenge_mesh_path)\n",
    "challenge_mesh.generate_sampling_stratified_triangle()"
   ]
  },
  {
   "cell_type": "code",
   "execution_count": 11,
   "metadata": {},
   "outputs": [],
   "source": [
    "challenge_mesh.load_new_mesh(challenge_mesh_path)\n",
    "challenge_mesh.generate_sampling_stratified_triangle(samplenum=24000)"
   ]
  },
  {
   "cell_type": "code",
   "execution_count": 12,
   "metadata": {},
   "outputs": [],
   "source": [
    "challenge_mesh.load_new_mesh(challenge_mesh_path)\n",
    "challenge_mesh.generate_sampling_stratified_triangle(samplenum=24000, sampling=1)"
   ]
  },
  {
   "cell_type": "code",
   "execution_count": 13,
   "metadata": {},
   "outputs": [],
   "source": [
    "challenge_mesh.load_new_mesh(challenge_mesh_path)\n",
    "challenge_mesh.generate_sampling_stratified_triangle(samplenum=24000, sampling=3)"
   ]
  },
  {
   "cell_type": "code",
   "execution_count": 14,
   "metadata": {},
   "outputs": [],
   "source": [
    "challenge_mesh.load_new_mesh(challenge_mesh_path)\n",
    "challenge_mesh.generate_sampling_stratified_triangle(samplenum=24000, sampling=4)"
   ]
  },
  {
   "attachments": {},
   "cell_type": "markdown",
   "metadata": {},
   "source": [
    "## ~~generate_sampling_volumetric~~"
   ]
  },
  {
   "cell_type": "markdown",
   "metadata": {},
   "source": []
  },
  {
   "cell_type": "code",
   "execution_count": 7,
   "metadata": {},
   "outputs": [
    {
     "name": "stdout",
     "output_type": "stream",
     "text": [
      "Surface Sampling radius 0.220014 - montecarlo 1967691vn - Poisson 132002vn\n",
      "Made 428895 Trials to get 200000 samples\n"
     ]
    },
    {
     "data": {
      "text/plain": [
       "12.829285621643066"
      ]
     },
     "execution_count": 7,
     "metadata": {},
     "output_type": "execute_result"
    }
   ],
   "source": [
    "challenge_mesh.load_new_mesh(challenge_mesh_path)\n",
    "start = time()\n",
    "challenge_mesh.generate_sampling_volumetric()\n",
    "end = time()\n",
    "end - start"
   ]
  },
  {
   "attachments": {},
   "cell_type": "markdown",
   "metadata": {},
   "source": [
    "## ~~generate_sampling_voronoi~~"
   ]
  },
  {
   "cell_type": "code",
   "execution_count": 9,
   "metadata": {},
   "outputs": [
    {
     "data": {
      "text/plain": [
       "7.827391862869263"
      ]
     },
     "execution_count": 9,
     "metadata": {},
     "output_type": "execute_result"
    }
   ],
   "source": [
    "challenge_mesh.load_new_mesh(challenge_mesh_path)\n",
    "start = time()\n",
    "challenge_mesh.generate_sampling_voronoi()\n",
    "end = time()\n",
    "end - start"
   ]
  },
  {
   "cell_type": "code",
   "execution_count": 9,
   "metadata": {},
   "outputs": [
    {
     "data": {
      "text/plain": [
       "0.07111048698425293"
      ]
     },
     "execution_count": 9,
     "metadata": {},
     "output_type": "execute_result"
    }
   ],
   "source": [
    "challenge_mesh.load_new_mesh(osstem_mesh_path)\n",
    "start = time()\n",
    "challenge_mesh.generate_simplified_point_cloud(radius=pymeshlab.Percentage(0.3), exactnumflag=True)\n",
    "end = time()\n",
    "end - start"
   ]
  },
  {
   "attachments": {},
   "cell_type": "markdown",
   "metadata": {},
   "source": [
    "## **generate_simplified_point_cloud**"
   ]
  },
  {
   "cell_type": "code",
   "execution_count": 7,
   "metadata": {},
   "outputs": [
    {
     "data": {
      "text/plain": [
       "0.3111603260040283"
      ]
     },
     "execution_count": 7,
     "metadata": {},
     "output_type": "execute_result"
    }
   ],
   "source": [
    "challenge_mesh.load_new_mesh(challenge_mesh_path)\n",
    "start = time()\n",
    "challenge_mesh.generate_simplified_point_cloud(radius=pymeshlab.Percentage(0.01), exactnumflag=True)\n",
    "challenge_mesh.generate_simplified_point_cloud(radius=pymeshlab.Percentage(0.3), exactnumflag=True)\n",
    "end = time()\n",
    "end - start"
   ]
  },
  {
   "cell_type": "code",
   "execution_count": 18,
   "metadata": {},
   "outputs": [
    {
     "data": {
      "text/plain": [
       "0.261340856552124"
      ]
     },
     "execution_count": 18,
     "metadata": {},
     "output_type": "execute_result"
    }
   ],
   "source": [
    "challenge_mesh.load_new_mesh(challenge_mesh_path)\n",
    "start = time()\n",
    "challenge_mesh.generate_simplified_point_cloud(radius=pymeshlab.Percentage(0.2), exactnumflag=True)\n",
    "end = time()\n",
    "end - start"
   ]
  },
  {
   "cell_type": "code",
   "execution_count": 8,
   "metadata": {},
   "outputs": [
    {
     "name": "stdout",
     "output_type": "stream",
     "text": [
      "[polyscope] Backend: openGL3_glfw -- Loaded openGL version: 3.3.0 NVIDIA 470.103.01\n"
     ]
    }
   ],
   "source": [
    "challenge_mesh.show_polyscope()"
   ]
  },
  {
   "cell_type": "code",
   "execution_count": 10,
   "metadata": {},
   "outputs": [],
   "source": [
    "challenge_mesh.show_polyscope()"
   ]
  },
  {
   "cell_type": "code",
   "execution_count": null,
   "metadata": {},
   "outputs": [],
   "source": []
  },
  {
   "cell_type": "code",
   "execution_count": 7,
   "metadata": {},
   "outputs": [],
   "source": [
    "palet = np.array([\n",
    "            [255,153,153],\n",
    "\n",
    "            [153,76,0],\n",
    "            [153,153,0],\n",
    "            [76,153,0],\n",
    "            [0,153,153],\n",
    "            [0,0,153],\n",
    "            [153,0,153],\n",
    "            [153,0,76],\n",
    "            [64,64,64],\n",
    "\n",
    "            # [255,128,0],\n",
    "            # [153,153,0],\n",
    "            # [76,153,0],\n",
    "            # [0,153,153],\n",
    "            # [0,0,153],\n",
    "            # [153,0,153],\n",
    "            # [153,0,76],\n",
    "            # [64,64,64],\n",
    "            [20, 10, 0],\n",
    "            [10, 10, 0],\n",
    "            [10, 20, 0],\n",
    "            [0, 10, 20],\n",
    "            [0, 0, 20],\n",
    "            [10, 0, 10],\n",
    "            [10, 0, 0],\n",
    "            [10, 10, 10],\n",
    "            ])/255\n",
    "# palet[9:] *= 0.5"
   ]
  },
  {
   "cell_type": "code",
   "execution_count": 8,
   "metadata": {},
   "outputs": [
    {
     "data": {
      "text/plain": [
       "array([ 0,  0,  0, ...,  2, 15, 14])"
      ]
     },
     "execution_count": 8,
     "metadata": {},
     "output_type": "execute_result"
    }
   ],
   "source": [
    "loaded_json = gu.load_json(json_path)\n",
    "labels = np.array(loaded_json['labels']).reshape(-1)\n",
    "if loaded_json['jaw'] == 'lower':\n",
    "    labels -= 20\n",
    "labels[labels//10==1] %= 10\n",
    "labels[labels//10==2] = (labels[labels//10==2]%10) + 8\n",
    "labels[labels<0] = 0\n",
    "\n",
    "labels"
   ]
  },
  {
   "cell_type": "code",
   "execution_count": 9,
   "metadata": {},
   "outputs": [
    {
     "data": {
      "text/plain": [
       "{0, 1, 2, 3, 4, 5, 6, 7, 9, 10, 11, 12, 13, 14, 15}"
      ]
     },
     "execution_count": 9,
     "metadata": {},
     "output_type": "execute_result"
    }
   ],
   "source": [
    "set(labels)"
   ]
  },
  {
   "cell_type": "code",
   "execution_count": 20,
   "metadata": {},
   "outputs": [
    {
     "data": {
      "text/plain": [
       "(113080, 4)"
      ]
     },
     "execution_count": 20,
     "metadata": {},
     "output_type": "execute_result"
    }
   ],
   "source": [
    "label_colors = np.zeros(challenge_mesh[0].vertex_matrix().shape)\n",
    "\n",
    "for idx, p in enumerate(palet):\n",
    "    label_colors[labels==idx] = palet[idx]\n",
    "    \n",
    "label_colors = np.concatenate([label_colors, np.ones((label_colors.shape[0], 1))], axis=-1)\n",
    "    \n",
    "label_colors.shape"
   ]
  },
  {
   "cell_type": "code",
   "execution_count": 21,
   "metadata": {},
   "outputs": [
    {
     "data": {
      "text/plain": [
       "((113080, 3), (113080,), (113080, 4), (113080, 3))"
      ]
     },
     "execution_count": 21,
     "metadata": {},
     "output_type": "execute_result"
    }
   ],
   "source": [
    "challenge_mesh[0].vertex_matrix().shape, challenge_mesh[0].vertex_scalar_array().shape, label_colors.shape, challenge_mesh[0].vertex_normal_matrix().shape"
   ]
  },
  {
   "cell_type": "code",
   "execution_count": 25,
   "metadata": {},
   "outputs": [
    {
     "data": {
      "text/plain": [
       "array([0., 0., 0., 0., 0., 0., 0., 0., 0., 0.])"
      ]
     },
     "execution_count": 25,
     "metadata": {},
     "output_type": "execute_result"
    }
   ],
   "source": [
    "challenge_mesh[0].vertex_scalar_array()[:10]"
   ]
  },
  {
   "cell_type": "code",
   "execution_count": 28,
   "metadata": {},
   "outputs": [
    {
     "data": {
      "text/plain": [
       "(113080, 3)"
      ]
     },
     "execution_count": 28,
     "metadata": {},
     "output_type": "execute_result"
    }
   ],
   "source": [
    "challenge_mesh[0].vertex_normal_matrix().shape"
   ]
  },
  {
   "cell_type": "code",
   "execution_count": 36,
   "metadata": {},
   "outputs": [
    {
     "data": {
      "text/plain": [
       "<pymeshlab.pmeshlab.Mesh at 0x7fd2eb2fe0f0>"
      ]
     },
     "execution_count": 36,
     "metadata": {},
     "output_type": "execute_result"
    }
   ],
   "source": [
    "new_mesh = pymeshlab.Mesh(vertex_matrix = challenge_mesh[0].vertex_matrix(),\n",
    "                          v_normals_matrix = challenge_mesh[0].vertex_normal_matrix(),\n",
    "                          # v_scalar_array = challenge_mesh[0].vertex_scalar_array(),\n",
    "                          # # f_scalar_array = challenge_mesh[0].face_scalar_array(),\n",
    "                          v_color_matrix = label_colors)\n",
    "\n",
    "new_mesh"
   ]
  },
  {
   "cell_type": "code",
   "execution_count": 38,
   "metadata": {},
   "outputs": [
    {
     "data": {
      "text/plain": [
       "array([[ 0.18116802, -3.0961297 ,  0.48165861],\n",
       "       [ 0.36233604, -6.19225942,  0.96331715],\n",
       "       [ 0.2665178 , -4.00983588,  3.4033412 ],\n",
       "       [ 0.36233603, -6.19225941,  0.96331716],\n",
       "       [ 0.14693404,  0.97397437,  6.20549772],\n",
       "       [ 0.14693404,  0.97397436,  6.20549772],\n",
       "       [ 0.14693404,  0.97397437,  6.20549772],\n",
       "       [ 0.14693404,  0.97397437,  6.20549772],\n",
       "       [ 0.14693405,  0.97397437,  6.20549772],\n",
       "       [ 0.14693404,  0.97397437,  6.20549772]])"
      ]
     },
     "execution_count": 38,
     "metadata": {},
     "output_type": "execute_result"
    }
   ],
   "source": [
    "new_mesh.vertex_normal_matrix()[:10]"
   ]
  },
  {
   "cell_type": "code",
   "execution_count": 39,
   "metadata": {},
   "outputs": [
    {
     "name": "stdout",
     "output_type": "stream",
     "text": [
      "[polyscope] Backend: openGL3_glfw -- Loaded openGL version: 3.3.0 NVIDIA 470.103.01\n",
      "[polyscope] [ERROR] name must not be the empty string\n"
     ]
    }
   ],
   "source": [
    "new_mesh_set = pymeshlab.MeshSet()\n",
    "new_mesh_set.add_mesh(new_mesh)\n",
    "new_mesh_set.show_polyscope()"
   ]
  },
  {
   "cell_type": "code",
   "execution_count": 40,
   "metadata": {},
   "outputs": [
    {
     "name": "stdout",
     "output_type": "stream",
     "text": [
      "[polyscope] [ERROR] name must not be the empty string\n"
     ]
    }
   ],
   "source": [
    "new_mesh_set.generate_simplified_point_cloud(radius=pymeshlab.Percentage(0.3), exactnumflag=True)\n",
    "new_mesh_set.show_polyscope()"
   ]
  },
  {
   "cell_type": "code",
   "execution_count": 15,
   "metadata": {},
   "outputs": [
    {
     "data": {
      "text/plain": [
       "2"
      ]
     },
     "execution_count": 15,
     "metadata": {},
     "output_type": "execute_result"
    }
   ],
   "source": [
    "len(new_mesh_set)"
   ]
  },
  {
   "cell_type": "code",
   "execution_count": 16,
   "metadata": {},
   "outputs": [
    {
     "data": {
      "text/plain": [
       "(14674, 3)"
      ]
     },
     "execution_count": 16,
     "metadata": {},
     "output_type": "execute_result"
    }
   ],
   "source": [
    "new_mesh_set[1].vertex_matrix().shape"
   ]
  },
  {
   "cell_type": "code",
   "execution_count": null,
   "metadata": {},
   "outputs": [],
   "source": []
  },
  {
   "cell_type": "code",
   "execution_count": 16,
   "metadata": {},
   "outputs": [
    {
     "data": {
      "text/plain": [
       "dtype('float64')"
      ]
     },
     "execution_count": 16,
     "metadata": {},
     "output_type": "execute_result"
    }
   ],
   "source": [
    "new_mesh_set[1].vertex_color_matrix()[:,:3].dtype"
   ]
  },
  {
   "cell_type": "code",
   "execution_count": 41,
   "metadata": {},
   "outputs": [
    {
     "name": "stdout",
     "output_type": "stream",
     "text": [
      "6191\n",
      "424\n",
      "458\n",
      "574\n",
      "544\n",
      "557\n",
      "959\n",
      "830\n",
      "0\n",
      "434\n",
      "517\n",
      "565\n",
      "511\n",
      "483\n",
      "874\n",
      "753\n",
      "0\n"
     ]
    }
   ],
   "source": [
    "for i, p in enumerate(palet):\n",
    "    print((np.isclose(new_mesh_set[1].vertex_color_matrix()[:,:3], p).sum(-1)//3).astype(np.bool_).sum())"
   ]
  },
  {
   "cell_type": "code",
   "execution_count": 42,
   "metadata": {},
   "outputs": [
    {
     "data": {
      "text/plain": [
       "(14674,)"
      ]
     },
     "execution_count": 42,
     "metadata": {},
     "output_type": "execute_result"
    }
   ],
   "source": [
    "sampled_label = np.zeros(new_mesh_set[1].vertex_normal_matrix().shape[0])\n",
    "\n",
    "for i, p in enumerate(palet):\n",
    "    sampled_label[((np.isclose(new_mesh_set[1].vertex_color_matrix()[:,:3], p)).sum(-1)//3).astype(np.bool_)] = i\n",
    "\n",
    "sampled_label.shape"
   ]
  },
  {
   "cell_type": "code",
   "execution_count": 19,
   "metadata": {},
   "outputs": [
    {
     "data": {
      "text/plain": [
       "15.0"
      ]
     },
     "execution_count": 19,
     "metadata": {},
     "output_type": "execute_result"
    }
   ],
   "source": [
    "max(sampled_label)"
   ]
  },
  {
   "cell_type": "code",
   "execution_count": null,
   "metadata": {},
   "outputs": [],
   "source": []
  },
  {
   "cell_type": "code",
   "execution_count": 20,
   "metadata": {},
   "outputs": [
    {
     "data": {
      "text/plain": [
       "((14674, 3), (0, 3))"
      ]
     },
     "execution_count": 20,
     "metadata": {},
     "output_type": "execute_result"
    }
   ],
   "source": [
    "new_mesh_set[1].vertex_matrix().shape, new_mesh_set[1].face_matrix().shape"
   ]
  },
  {
   "cell_type": "code",
   "execution_count": 21,
   "metadata": {},
   "outputs": [
    {
     "data": {
      "text/plain": [
       "(14674, 3)"
      ]
     },
     "execution_count": 21,
     "metadata": {},
     "output_type": "execute_result"
    }
   ],
   "source": [
    "new_mesh_set[1].vertex_matrix().shape"
   ]
  },
  {
   "cell_type": "code",
   "execution_count": 22,
   "metadata": {},
   "outputs": [
    {
     "data": {
      "text/plain": [
       "(14674, 3)"
      ]
     },
     "execution_count": 22,
     "metadata": {},
     "output_type": "execute_result"
    }
   ],
   "source": [
    "new_mesh_set[1].vertex_color_matrix()[:,:3].shape"
   ]
  },
  {
   "cell_type": "code",
   "execution_count": 17,
   "metadata": {},
   "outputs": [
    {
     "data": {
      "text/plain": [
       "(14674, 3)"
      ]
     },
     "execution_count": 17,
     "metadata": {},
     "output_type": "execute_result"
    }
   ],
   "source": [
    "new_mesh_set[1].vertex_normal_matrix().shape"
   ]
  },
  {
   "cell_type": "code",
   "execution_count": 18,
   "metadata": {},
   "outputs": [
    {
     "data": {
      "text/plain": [
       "array([[0., 0., 0.],\n",
       "       [0., 0., 0.],\n",
       "       [0., 0., 0.],\n",
       "       [0., 0., 0.],\n",
       "       [0., 0., 0.],\n",
       "       [0., 0., 0.],\n",
       "       [0., 0., 0.],\n",
       "       [0., 0., 0.],\n",
       "       [0., 0., 0.],\n",
       "       [0., 0., 0.]])"
      ]
     },
     "execution_count": 18,
     "metadata": {},
     "output_type": "execute_result"
    }
   ],
   "source": [
    "new_mesh_set[1].vertex_normal_matrix()[:10]"
   ]
  },
  {
   "cell_type": "code",
   "execution_count": 23,
   "metadata": {},
   "outputs": [
    {
     "data": {
      "text/plain": [
       "(14674,)"
      ]
     },
     "execution_count": 23,
     "metadata": {},
     "output_type": "execute_result"
    }
   ],
   "source": [
    "sampled_label.shape"
   ]
  },
  {
   "cell_type": "code",
   "execution_count": 139,
   "metadata": {},
   "outputs": [
    {
     "data": {
      "text/plain": [
       "(14699, 3)"
      ]
     },
     "execution_count": 139,
     "metadata": {},
     "output_type": "execute_result"
    }
   ],
   "source": [
    "palet[sampled_label.astype(np.int64)].shape"
   ]
  },
  {
   "cell_type": "code",
   "execution_count": 143,
   "metadata": {},
   "outputs": [],
   "source": [
    "org_mesh = o3d.geometry.PointCloud()\n",
    "org_mesh.points = o3d.utility.Vector3dVector(new_mesh_set[1].vertex_matrix())\n",
    "org_mesh.colors = o3d.utility.Vector3dVector(new_mesh_set[1].vertex_color_matrix()[:,:3])\n",
    "\n",
    "o3d.visualization.draw_geometries([org_mesh])"
   ]
  },
  {
   "cell_type": "code",
   "execution_count": 145,
   "metadata": {},
   "outputs": [],
   "source": [
    "org_mesh = o3d.geometry.PointCloud()\n",
    "org_mesh.points = o3d.utility.Vector3dVector(new_mesh_set[1].vertex_matrix())\n",
    "org_mesh.colors = o3d.utility.Vector3dVector(palet[sampled_label.astype(np.int64)])\n",
    "\n",
    "o3d.visualization.draw_geometries([org_mesh])"
   ]
  },
  {
   "cell_type": "code",
   "execution_count": null,
   "metadata": {},
   "outputs": [],
   "source": []
  },
  {
   "cell_type": "code",
   "execution_count": null,
   "metadata": {},
   "outputs": [],
   "source": []
  },
  {
   "cell_type": "code",
   "execution_count": 74,
   "metadata": {},
   "outputs": [
    {
     "data": {
      "text/plain": [
       "array([[1.        , 0.6       , 0.6       , 1.        ],\n",
       "       [1.        , 0.6       , 0.6       , 1.        ],\n",
       "       [1.        , 0.6       , 0.6       , 1.        ],\n",
       "       ...,\n",
       "       [0.6       , 0.6       , 0.        , 1.        ],\n",
       "       [0.23921569, 0.        , 0.11764706, 1.        ],\n",
       "       [0.23921569, 0.        , 0.23921569, 1.        ]])"
      ]
     },
     "execution_count": 74,
     "metadata": {},
     "output_type": "execute_result"
    }
   ],
   "source": [
    "new_mesh.vertex_color_matrix()"
   ]
  },
  {
   "cell_type": "code",
   "execution_count": null,
   "metadata": {},
   "outputs": [],
   "source": []
  },
  {
   "cell_type": "code",
   "execution_count": null,
   "metadata": {},
   "outputs": [],
   "source": []
  },
  {
   "cell_type": "code",
   "execution_count": null,
   "metadata": {},
   "outputs": [],
   "source": []
  },
  {
   "cell_type": "code",
   "execution_count": null,
   "metadata": {},
   "outputs": [],
   "source": []
  },
  {
   "cell_type": "code",
   "execution_count": null,
   "metadata": {},
   "outputs": [],
   "source": []
  },
  {
   "cell_type": "code",
   "execution_count": null,
   "metadata": {},
   "outputs": [],
   "source": []
  },
  {
   "cell_type": "code",
   "execution_count": 20,
   "metadata": {},
   "outputs": [
    {
     "data": {
      "text/plain": [
       "0.0778205394744873"
      ]
     },
     "execution_count": 20,
     "metadata": {},
     "output_type": "execute_result"
    }
   ],
   "source": [
    "osstem_mesh.load_new_mesh(osstem_mesh_path)\n",
    "start = time()\n",
    "osstem_mesh.generate_simplified_point_cloud(radius=pymeshlab.Percentage(0.3), exactnumflag=True)\n",
    "end = time()\n",
    "end - start"
   ]
  },
  {
   "cell_type": "code",
   "execution_count": 22,
   "metadata": {},
   "outputs": [
    {
     "data": {
      "text/plain": [
       "0.08637094497680664"
      ]
     },
     "execution_count": 22,
     "metadata": {},
     "output_type": "execute_result"
    }
   ],
   "source": [
    "osstem_mesh.load_new_mesh(osstem_mesh_path)\n",
    "start = time()\n",
    "osstem_mesh.generate_simplified_point_cloud(radius=pymeshlab.Percentage(0.2), exactnumflag=True)\n",
    "end = time()\n",
    "end - start"
   ]
  },
  {
   "cell_type": "code",
   "execution_count": 23,
   "metadata": {},
   "outputs": [],
   "source": [
    "osstem_mesh.show_polyscope()"
   ]
  },
  {
   "attachments": {},
   "cell_type": "markdown",
   "metadata": {},
   "source": [
    "## ~~generate_surface_reconstruction_ball_pivoting~~"
   ]
  },
  {
   "cell_type": "code",
   "execution_count": 7,
   "metadata": {},
   "outputs": [
    {
     "data": {
      "text/plain": [
       "0.8293983936309814"
      ]
     },
     "execution_count": 7,
     "metadata": {},
     "output_type": "execute_result"
    }
   ],
   "source": [
    "challenge_mesh.load_new_mesh(challenge_mesh_path)\n",
    "start = time()\n",
    "challenge_mesh.generate_surface_reconstruction_ball_pivoting()\n",
    "end = time()\n",
    "end - start"
   ]
  },
  {
   "cell_type": "code",
   "execution_count": 9,
   "metadata": {},
   "outputs": [
    {
     "data": {
      "text/plain": [
       "10.507348775863647"
      ]
     },
     "execution_count": 9,
     "metadata": {},
     "output_type": "execute_result"
    }
   ],
   "source": [
    "challenge_mesh.load_new_mesh(challenge_mesh_path)\n",
    "start = time()\n",
    "challenge_mesh.generate_surface_reconstruction_screened_poisson()\n",
    "end = time()\n",
    "end - start"
   ]
  },
  {
   "cell_type": "code",
   "execution_count": 11,
   "metadata": {},
   "outputs": [
    {
     "name": "stdout",
     "output_type": "stream",
     "text": [
      "Surface Sampling radius 1.100069 - montecarlo 78707vn - Poisson 5250vn\n",
      "Made 214209 Trials to get 100000 samples\n"
     ]
    }
   ],
   "source": [
    "challenge_mesh.load_new_mesh(challenge_mesh_path)\n",
    "start = time()\n",
    "challenge_mesh.generate_voronoi_scaffolding()\n",
    "end = time()\n",
    "end - start"
   ]
  },
  {
   "attachments": {},
   "cell_type": "markdown",
   "metadata": {},
   "source": [
    "## meshing_decimation_clustering"
   ]
  },
  {
   "cell_type": "code",
   "execution_count": 7,
   "metadata": {},
   "outputs": [
    {
     "data": {
      "text/plain": [
       "0.1861424446105957"
      ]
     },
     "execution_count": 7,
     "metadata": {},
     "output_type": "execute_result"
    }
   ],
   "source": [
    "challenge_mesh.load_new_mesh(challenge_mesh_path)\n",
    "start = time()\n",
    "challenge_mesh.meshing_decimation_clustering()\n",
    "end = time()\n",
    "end - start"
   ]
  },
  {
   "cell_type": "code",
   "execution_count": 8,
   "metadata": {},
   "outputs": [
    {
     "data": {
      "text/plain": [
       "0.2962193489074707"
      ]
     },
     "execution_count": 8,
     "metadata": {},
     "output_type": "execute_result"
    }
   ],
   "source": [
    "challenge_mesh.load_new_mesh(challenge_mesh_path)\n",
    "start = time()\n",
    "challenge_mesh.meshing_decimation_clustering(threshold=pymeshlab.Percentage(0.5))\n",
    "end = time()\n",
    "end - start"
   ]
  },
  {
   "cell_type": "code",
   "execution_count": 9,
   "metadata": {},
   "outputs": [
    {
     "data": {
      "text/plain": [
       "0.7021522521972656"
      ]
     },
     "execution_count": 9,
     "metadata": {},
     "output_type": "execute_result"
    }
   ],
   "source": [
    "challenge_mesh.load_new_mesh(challenge_mesh_path)\n",
    "start = time()\n",
    "challenge_mesh.meshing_decimation_clustering(threshold=pymeshlab.Percentage(0.2))\n",
    "end = time()\n",
    "end - start"
   ]
  },
  {
   "attachments": {},
   "cell_type": "markdown",
   "metadata": {},
   "source": [
    "## ~~meshing_decimation_quadric_edge_collapse~~"
   ]
  },
  {
   "cell_type": "code",
   "execution_count": 10,
   "metadata": {},
   "outputs": [
    {
     "data": {
      "text/plain": [
       "2.2861716747283936"
      ]
     },
     "execution_count": 10,
     "metadata": {},
     "output_type": "execute_result"
    }
   ],
   "source": [
    "challenge_mesh.load_new_mesh(challenge_mesh_path)\n",
    "start = time()\n",
    "challenge_mesh.meshing_decimation_quadric_edge_collapse()\n",
    "end = time()\n",
    "end - start"
   ]
  },
  {
   "cell_type": "code",
   "execution_count": null,
   "metadata": {},
   "outputs": [],
   "source": [
    "challenge_mesh.load_new_mesh(challenge_mesh_path)\n",
    "start = time()\n",
    "challenge_mesh.meshing_decimation_quadric_edge_collapse()\n",
    "end = time()\n",
    "end - start"
   ]
  },
  {
   "attachments": {},
   "cell_type": "markdown",
   "metadata": {},
   "source": [
    "## **meshing_isotropic_explicit_remeshing**"
   ]
  },
  {
   "cell_type": "code",
   "execution_count": 7,
   "metadata": {},
   "outputs": [
    {
     "data": {
      "text/plain": [
       "2.625397205352783"
      ]
     },
     "execution_count": 7,
     "metadata": {},
     "output_type": "execute_result"
    }
   ],
   "source": [
    "challenge_mesh.load_new_mesh(challenge_mesh_path)\n",
    "start = time()\n",
    "challenge_mesh.meshing_isotropic_explicit_remeshing()\n",
    "end = time()\n",
    "end - start"
   ]
  },
  {
   "cell_type": "code",
   "execution_count": 7,
   "metadata": {},
   "outputs": [
    {
     "data": {
      "text/plain": [
       "3.4878664016723633"
      ]
     },
     "execution_count": 7,
     "metadata": {},
     "output_type": "execute_result"
    }
   ],
   "source": [
    "challenge_mesh.load_new_mesh(challenge_mesh_path)\n",
    "start = time()\n",
    "challenge_mesh.meshing_isotropic_explicit_remeshing(targetlen=pymeshlab.Percentage(0.5))\n",
    "end = time()\n",
    "end - start"
   ]
  },
  {
   "cell_type": "code",
   "execution_count": 10,
   "metadata": {},
   "outputs": [
    {
     "data": {
      "text/plain": [
       "11.800923585891724"
      ]
     },
     "execution_count": 10,
     "metadata": {},
     "output_type": "execute_result"
    }
   ],
   "source": [
    "challenge_mesh.load_new_mesh(challenge_mesh_path)\n",
    "start = time()\n",
    "challenge_mesh.meshing_isotropic_explicit_remeshing(maxsurfdist=pymeshlab.Percentage(0.5))\n",
    "end = time()\n",
    "end - start"
   ]
  },
  {
   "cell_type": "code",
   "execution_count": 7,
   "metadata": {},
   "outputs": [
    {
     "data": {
      "text/plain": [
       "20.91249942779541"
      ]
     },
     "execution_count": 7,
     "metadata": {},
     "output_type": "execute_result"
    }
   ],
   "source": [
    "challenge_mesh.load_new_mesh(challenge_mesh_path)\n",
    "start = time()\n",
    "challenge_mesh.meshing_isotropic_explicit_remeshing(iterations=1, adaptive=True, targetlen=pymeshlab.Percentage(1))\n",
    "end = time()\n",
    "end - start"
   ]
  },
  {
   "cell_type": "code",
   "execution_count": 8,
   "metadata": {},
   "outputs": [
    {
     "data": {
      "text/plain": [
       "19.120285511016846"
      ]
     },
     "execution_count": 8,
     "metadata": {},
     "output_type": "execute_result"
    }
   ],
   "source": [
    "challenge_mesh.load_new_mesh(challenge_mesh_path)\n",
    "start = time()\n",
    "challenge_mesh.meshing_isotropic_explicit_remeshing(iterations=1, adaptive=True, targetlen=pymeshlab.Percentage(0.5))\n",
    "end = time()\n",
    "end - start"
   ]
  },
  {
   "attachments": {},
   "cell_type": "markdown",
   "metadata": {},
   "source": [
    "iteration, featuredeg(샘플링 각도 제한)"
   ]
  },
  {
   "cell_type": "code",
   "execution_count": 9,
   "metadata": {},
   "outputs": [
    {
     "name": "stdout",
     "output_type": "stream",
     "text": [
      "[polyscope] Backend: openGL3_glfw -- Loaded openGL version: 3.3.0 NVIDIA 470.103.01\n"
     ]
    }
   ],
   "source": [
    "challenge_mesh.show_polyscope()"
   ]
  },
  {
   "cell_type": "code",
   "execution_count": null,
   "metadata": {},
   "outputs": [],
   "source": []
  },
  {
   "cell_type": "code",
   "execution_count": 9,
   "metadata": {},
   "outputs": [
    {
     "data": {
      "text/plain": [
       "0.487562894821167"
      ]
     },
     "execution_count": 9,
     "metadata": {},
     "output_type": "execute_result"
    }
   ],
   "source": [
    "osstem_mesh.load_new_mesh(osstem_mesh_path)\n",
    "start = time()\n",
    "osstem_mesh.meshing_isotropic_explicit_remeshing(adaptive=True,featuredeg=1)\n",
    "end = time()\n",
    "end - start"
   ]
  },
  {
   "cell_type": "code",
   "execution_count": 10,
   "metadata": {},
   "outputs": [],
   "source": [
    "osstem_mesh.show_polyscope()"
   ]
  }
 ],
 "metadata": {
  "kernelspec": {
   "display_name": "roitr",
   "language": "python",
   "name": "python3"
  },
  "language_info": {
   "codemirror_mode": {
    "name": "ipython",
    "version": 3
   },
   "file_extension": ".py",
   "mimetype": "text/x-python",
   "name": "python",
   "nbconvert_exporter": "python",
   "pygments_lexer": "ipython3",
   "version": "3.8.12"
  },
  "orig_nbformat": 4,
  "vscode": {
   "interpreter": {
    "hash": "d4ccbdd64855c52184ee7115ad5227ca0df9e5bd4764d3cb25e2598341f11a4c"
   }
  }
 },
 "nbformat": 4,
 "nbformat_minor": 2
}
