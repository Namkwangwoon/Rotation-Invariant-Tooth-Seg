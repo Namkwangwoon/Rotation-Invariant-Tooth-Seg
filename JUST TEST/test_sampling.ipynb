{
 "cells": [
  {
   "cell_type": "code",
   "execution_count": 19,
   "metadata": {},
   "outputs": [],
   "source": [
    "import open3d as o3d\n",
    "import numpy as np\n",
    "import os\n",
    "import gen_utils as gu\n",
    "import pyvista as pv"
   ]
  },
  {
   "cell_type": "code",
   "execution_count": 41,
   "metadata": {},
   "outputs": [],
   "source": [
    "challenge_path = '../datasets/3D_scans_per_patient_obj_files'\n",
    "challenge_gt_path = '../datasets/ground-truth_labels_instances'\n",
    "case = '01AS72AN'\n",
    "jaw = 'lower'\n",
    "\n",
    "osstem_mesh_path = './test_input_aligned/Case_01_lower(Antagonist)_1.obj'\n",
    "# osstem_mesh_path = './test_input_aligned/Case_01_upper_1.obj'\n",
    "# osstem_mesh_path = './test_input_aligned/Case_03_lower(Antagonist)_1.obj'\n",
    "# osstem_mesh_path = './test_input_aligned/Case_03_upper_1.obj'"
   ]
  },
  {
   "cell_type": "code",
   "execution_count": 23,
   "metadata": {},
   "outputs": [
    {
     "data": {
      "text/plain": [
       "'../datasets/3D_scans_per_patient_obj_files/01AS72AN/01AS72AN_lower.obj'"
      ]
     },
     "execution_count": 23,
     "metadata": {},
     "output_type": "execute_result"
    }
   ],
   "source": [
    "challenge_mesh_path = os.path.join(challenge_path, case, case+'_'+jaw+'.obj')\n",
    "challenge_mesh_path"
   ]
  },
  {
   "attachments": {},
   "cell_type": "markdown",
   "metadata": {},
   "source": [
    "# open3d.geometry.sample_points_poisson_disk"
   ]
  },
  {
   "cell_type": "code",
   "execution_count": 4,
   "metadata": {},
   "outputs": [],
   "source": [
    "vertices, org_mesh = gu.read_txt_obj_ls(challenge_mesh_path, ret_mesh=True, use_tri_mesh=False)\n",
    "\n",
    "gt_loaded_json = gu.load_json(os.path.join(challenge_gt_path, case, case+'_'+jaw+'.json'))\n",
    "gt_labels = np.array(gt_loaded_json['labels']).reshape(-1)\n",
    "\n",
    "if gt_loaded_json['jaw'] == 'lower':\n",
    "    gt_labels -= 20\n",
    "gt_labels[gt_labels//10==1] %= 10\n",
    "gt_labels[gt_labels//10==2] = (gt_labels[gt_labels//10==2]%10) + 8\n",
    "gt_labels[gt_labels<0] = 0\n",
    "\n",
    "o3d.visualization.draw_geometries([org_mesh])\n",
    "\n",
    "colored_mesh = gu.get_colored_mesh(org_mesh, gt_labels)\n",
    "\n",
    "o3d.visualization.draw_geometries([colored_mesh])"
   ]
  },
  {
   "cell_type": "code",
   "execution_count": 5,
   "metadata": {},
   "outputs": [
    {
     "data": {
      "text/plain": [
       "dtype('float64')"
      ]
     },
     "execution_count": 5,
     "metadata": {},
     "output_type": "execute_result"
    }
   ],
   "source": [
    "np.array(colored_mesh.vertex_colors).dtype"
   ]
  },
  {
   "cell_type": "code",
   "execution_count": 6,
   "metadata": {},
   "outputs": [],
   "source": [
    "pcd = colored_mesh.sample_points_poisson_disk(24000)\n",
    "\n",
    "o3d.visualization.draw_geometries([pcd])"
   ]
  },
  {
   "cell_type": "code",
   "execution_count": 7,
   "metadata": {},
   "outputs": [
    {
     "data": {
      "text/plain": [
       "std::vector<Eigen::Vector3d> with 24000 elements.\n",
       "Use numpy.asarray() to access data."
      ]
     },
     "execution_count": 7,
     "metadata": {},
     "output_type": "execute_result"
    }
   ],
   "source": [
    "pcd.points"
   ]
  },
  {
   "cell_type": "code",
   "execution_count": 8,
   "metadata": {},
   "outputs": [
    {
     "data": {
      "text/plain": [
       "std::vector<Eigen::Vector3d> with 24000 elements.\n",
       "Use numpy.asarray() to access data."
      ]
     },
     "execution_count": 8,
     "metadata": {},
     "output_type": "execute_result"
    }
   ],
   "source": [
    "pcd.colors"
   ]
  },
  {
   "cell_type": "code",
   "execution_count": 9,
   "metadata": {},
   "outputs": [
    {
     "data": {
      "text/plain": [
       "dtype('float64')"
      ]
     },
     "execution_count": 9,
     "metadata": {},
     "output_type": "execute_result"
    }
   ],
   "source": [
    "color_ind = np.array(pcd.colors)\n",
    "color_ind.dtype"
   ]
  },
  {
   "cell_type": "code",
   "execution_count": 10,
   "metadata": {},
   "outputs": [],
   "source": [
    "palet = np.array([\n",
    "        [255,153,153],\n",
    "\n",
    "        [153,76,0],\n",
    "        [153,153,0],\n",
    "        [76,153,0],\n",
    "        [0,153,153],\n",
    "        [0,0,153],\n",
    "        [153,0,153],\n",
    "        [153,0,76],\n",
    "        [64,64,64],\n",
    "\n",
    "        [255,128,0],\n",
    "        [153,153,0],\n",
    "        [76,153,0],\n",
    "        [0,153,153],\n",
    "        [0,0,153],\n",
    "        [153,0,153],\n",
    "        [153,0,76],\n",
    "        [64,64,64],\n",
    "    ])/255\n",
    "palet[9:] *= 0.4\n",
    "\n",
    "# palet = np.array([\n",
    "#         [0, 0, 0],\n",
    "        \n",
    "#         [10, 10, 10],\n",
    "#         [20, 20, 20],\n",
    "#         [30, 30, 30],\n",
    "#         [40, 40, 40],\n",
    "#         [50, 50, 50],\n",
    "#         [60, 60, 60],\n",
    "#         [70, 70, 70],\n",
    "#         [80, 80, 80],\n",
    "        \n",
    "#         [90, 90, 90],\n",
    "#         [100, 100, 100],\n",
    "#         [110, 110, 110],\n",
    "#         [120, 120, 120],\n",
    "#         [130, 130, 130],\n",
    "#         [140, 140, 140],\n",
    "#         [150, 150, 150],\n",
    "#         [160, 160, 160]\n",
    "# ])"
   ]
  },
  {
   "cell_type": "code",
   "execution_count": 11,
   "metadata": {},
   "outputs": [
    {
     "data": {
      "text/plain": [
       "dtype('float64')"
      ]
     },
     "execution_count": 11,
     "metadata": {},
     "output_type": "execute_result"
    }
   ],
   "source": [
    "palet.dtype"
   ]
  },
  {
   "cell_type": "code",
   "execution_count": 12,
   "metadata": {},
   "outputs": [],
   "source": [
    "sampled_label = np.zeros(24000)\n",
    "for i, p in enumerate(palet):\n",
    "    sampled_label[((np.isclose(color_ind, p)).sum(-1)//3).astype(np.bool_)] = i"
   ]
  },
  {
   "cell_type": "code",
   "execution_count": 13,
   "metadata": {},
   "outputs": [
    {
     "name": "stdout",
     "output_type": "stream",
     "text": [
      "20323\n",
      "178\n",
      "188\n",
      "245\n",
      "237\n",
      "237\n",
      "435\n",
      "353\n",
      "0\n",
      "177\n",
      "224\n",
      "240\n",
      "218\n",
      "208\n",
      "401\n",
      "336\n",
      "0\n"
     ]
    }
   ],
   "source": [
    "for i in range(17):\n",
    "    print(len(sampled_label[sampled_label==i]))"
   ]
  },
  {
   "cell_type": "code",
   "execution_count": 14,
   "metadata": {},
   "outputs": [
    {
     "name": "stdout",
     "output_type": "stream",
     "text": [
      "0\n"
     ]
    },
    {
     "data": {
      "text/plain": [
       "array([], shape=(0, 3), dtype=float64)"
      ]
     },
     "execution_count": 14,
     "metadata": {},
     "output_type": "execute_result"
    }
   ],
   "source": [
    "print(len(color_ind[sampled_label==-1]))\n",
    "color_ind[sampled_label==-1].astype(np.float64)"
   ]
  },
  {
   "cell_type": "code",
   "execution_count": 15,
   "metadata": {},
   "outputs": [],
   "source": [
    "vertices, org_mesh = gu.read_txt_obj_ls(mesh_path, ret_mesh=True, use_tri_mesh=False)\n",
    "\n",
    "cloud = pv.PolyData(np.array(pcd.points))\n",
    "mesh = cloud.delaunay_2d()\n",
    "\n",
    "org_mesh.vertices = o3d.utility.Vector3dVector(np.array(mesh.points))\n",
    "org_mesh.triangles = o3d.utility.Vector3iVector(np.array(mesh.regular_faces))\n",
    "org_mesh.compute_vertex_normals()\n",
    "\n",
    "gu.print_3d(gu.get_colored_mesh(org_mesh, sampled_label))"
   ]
  },
  {
   "cell_type": "code",
   "execution_count": 16,
   "metadata": {},
   "outputs": [
    {
     "data": {
      "text/plain": [
       "(24000, 3)"
      ]
     },
     "execution_count": 16,
     "metadata": {},
     "output_type": "execute_result"
    }
   ],
   "source": [
    "np.array(pcd.normals).shape"
   ]
  },
  {
   "cell_type": "code",
   "execution_count": null,
   "metadata": {},
   "outputs": [],
   "source": []
  },
  {
   "attachments": {},
   "cell_type": "markdown",
   "metadata": {},
   "source": [
    "# open3d.geometry.voxel_down_sample"
   ]
  },
  {
   "cell_type": "code",
   "execution_count": 195,
   "metadata": {},
   "outputs": [
    {
     "data": {
      "text/plain": [
       "(113080, 6)"
      ]
     },
     "execution_count": 195,
     "metadata": {},
     "output_type": "execute_result"
    }
   ],
   "source": [
    "vertices, org_mesh = gu.read_txt_obj_ls(challenge_mesh_path, ret_mesh=True, use_tri_mesh=True)\n",
    "vertices.shape"
   ]
  },
  {
   "cell_type": "code",
   "execution_count": 201,
   "metadata": {},
   "outputs": [],
   "source": [
    "pcd = o3d.geometry.PointCloud()\n",
    "pcd.points = o3d.utility.Vector3dVector(np.array(vertices[:, :3]))\n",
    "o3d.visualization.draw_geometries([pcd])"
   ]
  },
  {
   "cell_type": "code",
   "execution_count": 197,
   "metadata": {},
   "outputs": [
    {
     "data": {
      "text/plain": [
       "([0.0011825935361760406,\n",
       "  0.0011825935361760406,\n",
       "  0.0016410329603897648,\n",
       "  0.0016410329603897648,\n",
       "  0.002311960429093609,\n",
       "  0.002311960429093609,\n",
       "  0.0026146584176523994,\n",
       "  0.0026146584176523994,\n",
       "  0.0027376453954646067,\n",
       "  0.0027376453954646067],\n",
       " [4.460783523945331,\n",
       "  4.460783528249087,\n",
       "  4.493911321230188,\n",
       "  4.493911321230188,\n",
       "  4.493913914127489,\n",
       "  4.512324044190266,\n",
       "  4.512324044190266,\n",
       "  4.512324095029833,\n",
       "  4.5826826959758105,\n",
       "  4.706616869999504])"
      ]
     },
     "execution_count": 197,
     "metadata": {},
     "output_type": "execute_result"
    }
   ],
   "source": [
    "sorted(pcd.compute_nearest_neighbor_distance())[:10], sorted(pcd.compute_nearest_neighbor_distance())[-10:]"
   ]
  },
  {
   "cell_type": "code",
   "execution_count": 206,
   "metadata": {},
   "outputs": [
    {
     "data": {
      "text/plain": [
       "([0.1325430225523643,\n",
       "  0.1325430225523643,\n",
       "  0.23117065895160044,\n",
       "  0.23117065895160044,\n",
       "  0.23117161264842515,\n",
       "  0.23117161264842515,\n",
       "  0.2362196846013414,\n",
       "  0.2362196846013414,\n",
       "  0.30239776030088816,\n",
       "  0.30239776030088816],\n",
       " [4.498834763592838,\n",
       "  4.509722311768017,\n",
       "  4.509722311768017,\n",
       "  4.51003835855039,\n",
       "  4.512324044190266,\n",
       "  4.512324044190266,\n",
       "  4.512324095029833,\n",
       "  4.512666483372474,\n",
       "  4.5826826959758105,\n",
       "  4.706616869999504])"
      ]
     },
     "execution_count": 206,
     "metadata": {},
     "output_type": "execute_result"
    }
   ],
   "source": [
    "voxel_size = 2\n",
    "sorted(pcd.voxel_down_sample(voxel_size).compute_nearest_neighbor_distance())[:10], \\\n",
    "sorted(pcd.voxel_down_sample(voxel_size).compute_nearest_neighbor_distance())[-10:]"
   ]
  },
  {
   "cell_type": "code",
   "execution_count": 207,
   "metadata": {},
   "outputs": [],
   "source": [
    "o3d.visualization.draw_geometries([pcd.voxel_down_sample(voxel_size)])"
   ]
  },
  {
   "cell_type": "code",
   "execution_count": 129,
   "metadata": {},
   "outputs": [
    {
     "data": {
      "text/plain": [
       "(array([[  32.23250961,   24.49151039, -111.03425598],\n",
       "        [  32.79378128,   24.41981888, -111.25597382],\n",
       "        [  32.48640823,   24.59178162, -111.42739105],\n",
       "        [  32.45804977,   24.29204369, -110.77379608],\n",
       "        [  32.09769821,   24.63780975, -111.29608154],\n",
       "        [  32.04803848,   24.30966949, -110.60123444],\n",
       "        [  32.79964828,   24.11439323, -110.6783905 ],\n",
       "        [  31.68505669,   24.62940979, -111.09718323],\n",
       "        [  32.43758774,   23.97652054, -110.2582016 ],\n",
       "        [  33.24604797,   24.25520706, -111.28716278]]),\n",
       " array([[  -9.42953491,  -29.64219856, -102.44727325],\n",
       "        [  -9.69323063,  -29.69818878, -102.41346741],\n",
       "        [  -9.93113232,  -29.51582909, -102.50177002],\n",
       "        [   0.42994091,  -29.39485741, -102.46543884],\n",
       "        [   0.21797167,  -29.37998962, -102.33530426],\n",
       "        [  -0.26125661,  -29.088974  , -102.40115356],\n",
       "        [ -15.63829136,   -2.15891051, -111.1860199 ],\n",
       "        [ -15.49253941,   -2.33407664, -111.36514282],\n",
       "        [  19.07939339,    4.91666365, -113.42053986],\n",
       "        [  19.06748199,    5.09646273, -113.40197754]]))"
      ]
     },
     "execution_count": 129,
     "metadata": {},
     "output_type": "execute_result"
    }
   ],
   "source": [
    "np.array(pcd.points)[:10],  \\\n",
    "np.array((pcd.voxel_down_sample(0.1).points))[:10]"
   ]
  },
  {
   "cell_type": "code",
   "execution_count": null,
   "metadata": {},
   "outputs": [],
   "source": []
  }
 ],
 "metadata": {
  "kernelspec": {
   "display_name": "roitr",
   "language": "python",
   "name": "python3"
  },
  "language_info": {
   "codemirror_mode": {
    "name": "ipython",
    "version": 3
   },
   "file_extension": ".py",
   "mimetype": "text/x-python",
   "name": "python",
   "nbconvert_exporter": "python",
   "pygments_lexer": "ipython3",
   "version": "3.8.12"
  },
  "orig_nbformat": 4,
  "vscode": {
   "interpreter": {
    "hash": "d4ccbdd64855c52184ee7115ad5227ca0df9e5bd4764d3cb25e2598341f11a4c"
   }
  }
 },
 "nbformat": 4,
 "nbformat_minor": 2
}
